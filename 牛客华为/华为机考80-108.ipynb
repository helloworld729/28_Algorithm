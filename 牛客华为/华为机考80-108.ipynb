{
 "cells": [
  {
   "cell_type": "markdown",
   "metadata": {},
   "source": [
    "**80、字符串匹配**\n",
    "**题目要求：**<br>\n",
    "判断短字符串是否在长字符串中出现<br>\n",
    "**注意**：虽然题目说只会输入两个字符串，但是不加while还是会错，所以应该吧while设为框架<br>\n",
    "**ps**：字符串的 in 操作，只有切片完全一致才为true，乱序false<br>"
   ]
  },
  {
   "cell_type": "code",
   "execution_count": null,
   "metadata": {},
   "outputs": [],
   "source": [
    "while True:\n",
    "    try:\n",
    "        x = input()\n",
    "        y = input()\n",
    "        flag = True\n",
    "        for s in x:\n",
    "            flag = flag and (s in y)\n",
    "        print('true' if flag else 'false')\n",
    "    except:\n",
    "        break"
   ]
  },
  {
   "cell_type": "code",
   "execution_count": null,
   "metadata": {},
   "outputs": [],
   "source": []
  },
  {
   "cell_type": "markdown",
   "metadata": {},
   "source": [
    "**81、真分数化为埃及分数**<br>\n",
    "埃及分数：分子为1的分数，就是要求将分数拆为多个分子为1的分式\n",
    "方法：<br>\n",
    "**分数的贪心算法**，准确的算法表述应该是这样的：<br>\n",
    "1、设某个真分数的分子为a，分母为b;<br>\n",
    "2、把c=(b/a+1)作为分解式中第一个分数的分母；<br>\n",
    "3、将a-b%a作为新的a；<br>\n",
    "4、将b*c作为新的b；<br>\n",
    "5、如果a等于1，则最后一个分数为1/b,算法结束；<br>\n",
    "6、如果a大于1但是a能整除b，则最后一个分数为1/(b/a),算法结束；<br>\n",
    "否则重复上面的步骤。<br>\n"
   ]
  },
  {
   "cell_type": "code",
   "execution_count": null,
   "metadata": {},
   "outputs": [],
   "source": [
    "while True:\n",
    "    try:\n",
    "        a = input().split('/')\n",
    "        up = int(a[0])\n",
    "        down = int(a[1])\n",
    "        res = ''  # 返回值\n",
    "        while up != 1:\n",
    "            if down%(up-1) == 0:\n",
    "                res = res + '1/' + str(down//(up-1)) + '+'\n",
    "                up = 1\n",
    "            else:\n",
    "                q = down//up\n",
    "                res = res + '1/'+ str(q+1) + '+'\n",
    "                up = up - down%up\n",
    "                down = down*(q+1)\n",
    "                if down%up == 0:\n",
    "                    down = down//up\n",
    "                    up = 1\n",
    "        res = res + '1/' + str(down)\n",
    "        print(res)\n",
    "    except:\n",
    "        break"
   ]
  },
  {
   "cell_type": "code",
   "execution_count": null,
   "metadata": {},
   "outputs": [],
   "source": []
  },
  {
   "cell_type": "markdown",
   "metadata": {},
   "source": [
    "**82、列表操作**<br>\n",
    "主要是二维表格的增删查改<br>\n",
    "增加：append、insert<br>\n",
    "删除：remove（value）、pop(index)<br>"
   ]
  },
  {
   "cell_type": "code",
   "execution_count": null,
   "metadata": {},
   "outputs": [],
   "source": [
    "m,n=list(map(int,input().split()))  # map：函数 迭代器\n",
    "exchange=list(map(int,input().split()))"
   ]
  },
  {
   "cell_type": "code",
   "execution_count": null,
   "metadata": {},
   "outputs": [],
   "source": []
  },
  {
   "cell_type": "markdown",
   "metadata": {},
   "source": [
    "**83、大写字母的个数**：<br>\n",
    "'A'.isupper()<br>\n",
    "'A' <= s <= 'Z'"
   ]
  },
  {
   "cell_type": "code",
   "execution_count": null,
   "metadata": {},
   "outputs": [],
   "source": []
  },
  {
   "cell_type": "markdown",
   "metadata": {},
   "source": [
    "84、**最大回文子串的长度**<br>\n",
    "理论支持：每当增加一个新的字母，最大回文串的长度只能增加1或者2，不可能增加更多，并且，新的最大回文串必然要包含这个字母！<br>\n",
    "<br>\n",
    "所以，从头到尾扫描字符串，每增加一个新的字符，判断以这个字符结尾，且长度为maxLen+1或者maxLen+2的子串是否为回文，如果是，<br>\n",
    "更新最大回文子串。代码如下：<br>"
   ]
  },
  {
   "cell_type": "code",
   "execution_count": null,
   "metadata": {},
   "outputs": [],
   "source": [
    "def longestPalindrome(s):\n",
    "    if s==s[::-1]:return len(s)\n",
    "    maxLen=0\n",
    "    for i in range(len(s)):\n",
    "        if i-maxLen>=1 and s[i-maxLen-1:i+1]==s[i-maxLen-1:i+1][::-1]:\n",
    "            maxLen+=2\n",
    "            continue\n",
    "        if i-maxLen>=0 and s[i-maxLen:i+1]==s[i-maxLen:i+1][::-1]:\n",
    "            maxLen+=1\n",
    "    return maxLen\n",
    "while True:\n",
    "    try:\n",
    "        a=input()\n",
    "        if a:\n",
    "            print(longestPalindrome(a))\n",
    " \n",
    " \n",
    "    except:\n",
    "        break"
   ]
  },
  {
   "cell_type": "code",
   "execution_count": null,
   "metadata": {},
   "outputs": [],
   "source": []
  },
  {
   "cell_type": "markdown",
   "metadata": {},
   "source": [
    "**85、最长重复值**<br>\n",
    "输入一个byte数字，唬人的，就是input然后int处理一下。输出最长连续的1的个数<br>\n",
    "直接用 in<br>"
   ]
  },
  {
   "cell_type": "code",
   "execution_count": null,
   "metadata": {},
   "outputs": [],
   "source": [
    "while True:\n",
    "    try:\n",
    "        n = int(input())\n",
    "        n2 = bin(n)[2:]\n",
    "        li = list(range(len(n2)))\n",
    "        li.reverse()\n",
    "        for i in li:\n",
    "            s = '1' * (i+1)\n",
    "            if s in n2:\n",
    "                print(len(s))\n",
    "                break\n",
    "    except:\n",
    "        break"
   ]
  },
  {
   "cell_type": "code",
   "execution_count": null,
   "metadata": {},
   "outputs": [],
   "source": []
  },
  {
   "cell_type": "markdown",
   "metadata": {},
   "source": [
    "**86、密码强度等级**<br>\n",
    "知识点：acall匹配(数字、大写字母、小写字母、符号)<br>\n",
    "isupper()、islower()、isalpha()、isdigit()\n",
    "也可以直接用大于小于等判定<br>\n",
    "核心部分如下：<br>"
   ]
  },
  {
   "cell_type": "code",
   "execution_count": null,
   "metadata": {},
   "outputs": [],
   "source": [
    "alpha_list = []\n",
    "digit_list = []\n",
    "symbol_list = []\n",
    "for i in s:\n",
    "    if i.isalpha():\n",
    "        alpha_list.append(i)\n",
    "    if i.isdigit():\n",
    "        digit_list.append(i)\n",
    "    else:\n",
    "        symbol_list.append(i)\n",
    "l=[0,0]\n",
    "for i in alpha_list:\n",
    "    if ord(i) in range(97,123):\n",
    "        l[0]=1\n",
    "    if ord(i) in range(65,91):\n",
    "        l[1]=1"
   ]
  },
  {
   "cell_type": "code",
   "execution_count": null,
   "metadata": {},
   "outputs": [],
   "source": []
  },
  {
   "cell_type": "markdown",
   "metadata": {},
   "source": [
    "**87、扑克牌大小**<br>\n",
    "逻辑问题，典型的华为考题，有时间可以做一下"
   ]
  },
  {
   "cell_type": "code",
   "execution_count": null,
   "metadata": {},
   "outputs": [],
   "source": []
  },
  {
   "cell_type": "markdown",
   "metadata": {},
   "source": [
    "**88、24点游戏**标准答案是用穷举的办法，但是我觉得可以用背包来求解"
   ]
  },
  {
   "cell_type": "code",
   "execution_count": null,
   "metadata": {},
   "outputs": [],
   "source": []
  },
  {
   "cell_type": "markdown",
   "metadata": {},
   "source": [
    "**89、ip合法性检查**<br>\n",
    "方法1：正则匹配<br>\n",
    "方法2: 点分之后和0、255比较<br>"
   ]
  },
  {
   "cell_type": "code",
   "execution_count": null,
   "metadata": {},
   "outputs": [],
   "source": [
    "while True:\n",
    "    try:\n",
    "        nums = list(map(int, input().split(\".\")))\n",
    "        flag = 0\n",
    "        for i in range(len(nums)):\n",
    "            if nums[i] < 0 or nums[i] > 255:\n",
    "                flag = 1\n",
    "            else:\n",
    "                pass\n",
    "        if flag == 0:\n",
    "            print(\"YES\")\n",
    "        else:\n",
    "            print(\"NO\")\n",
    "    except:\n",
    "        break"
   ]
  },
  {
   "cell_type": "code",
   "execution_count": null,
   "metadata": {},
   "outputs": [],
   "source": []
  },
  {
   "cell_type": "markdown",
   "metadata": {},
   "source": [
    "**90、动规棋盘路径搜索**"
   ]
  },
  {
   "cell_type": "markdown",
   "metadata": {},
   "source": [
    "**91、简单动规**"
   ]
  },
  {
   "cell_type": "code",
   "execution_count": null,
   "metadata": {},
   "outputs": [],
   "source": []
  }
 ],
 "metadata": {
  "kernelspec": {
   "display_name": "Python 3",
   "language": "python",
   "name": "python3"
  },
  "language_info": {
   "codemirror_mode": {
    "name": "ipython",
    "version": 3
   },
   "file_extension": ".py",
   "mimetype": "text/x-python",
   "name": "python",
   "nbconvert_exporter": "python",
   "pygments_lexer": "ipython3",
   "version": "3.6.2"
  }
 },
 "nbformat": 4,
 "nbformat_minor": 4
}
