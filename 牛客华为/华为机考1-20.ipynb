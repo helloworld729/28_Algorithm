{
 "cells": [
  {
   "cell_type": "markdown",
   "metadata": {},
   "source": [
    "得到的数据个数一定先转化为int"
   ]
  },
  {
   "cell_type": "markdown",
   "metadata": {},
   "source": [
    "1、计算字符串最后一个单词的长度，单词以空格隔开。"
   ]
  },
  {
   "cell_type": "code",
   "execution_count": 1,
   "metadata": {},
   "outputs": [
    {
     "name": "stdout",
     "output_type": "stream",
     "text": [
      "hello world\n",
      "5\n"
     ]
    }
   ],
   "source": [
    "print(len(input().split()[-1])) "
   ]
  },
  {
   "cell_type": "code",
   "execution_count": null,
   "metadata": {},
   "outputs": [],
   "source": []
  },
  {
   "cell_type": "markdown",
   "metadata": {},
   "source": [
    "2、题目描述<br>\n",
    "写出一个程序，接受一个由字母和数字组成的字符串，和一个字符，然后输出输入字符串中含有该字符的个数。不区分大小写。"
   ]
  },
  {
   "cell_type": "code",
   "execution_count": 4,
   "metadata": {},
   "outputs": [
    {
     "name": "stdout",
     "output_type": "stream",
     "text": [
      "hello WorLd\n",
      "l\n",
      "3\n"
     ]
    }
   ],
   "source": [
    "import re\n",
    "x1 = input()\n",
    "x2 = input()\n",
    "print(len(re.findall(x2, x1, re.I)))"
   ]
  },
  {
   "cell_type": "code",
   "execution_count": null,
   "metadata": {},
   "outputs": [],
   "source": []
  },
  {
   "cell_type": "markdown",
   "metadata": {},
   "source": [
    "3、题目描述<br>\n",
    "明明想在学校中请一些同学一起做一项问卷调查，为了实验的客观性，他先用计算机生成了N个1到1000之间的随机整数（N≤1000），<br>\n",
    "对于其中重复的数字，只保留一个，把其余相同的数去掉，不同的数对应着不同的学生的学号。然后再把这些数从小到大排序，按<br>\n",
    "照排好的顺序去找同学做调查。请你协助明明完成“去重”与“排序”的工作(同一个测试用例里可能会有多组数据，希望大家能正确处理)。"
   ]
  },
  {
   "cell_type": "code",
   "execution_count": 17,
   "metadata": {},
   "outputs": [],
   "source": [
    "import sys\n",
    "while True:\n",
    "    try:\n",
    "        data = []\n",
    "        num = sys.stdin.readline()    \n",
    "        for i in range(int(num)):\n",
    "            data.append(int(sys.stdin.readline()))\n",
    "        # b = set(data)\n",
    "        c = list(set(data))\n",
    "        d = sorted(c) \n",
    "        for i in range(len(d)):\n",
    "            print(d[i])\n",
    "    except:\n",
    "        break"
   ]
  },
  {
   "cell_type": "code",
   "execution_count": null,
   "metadata": {},
   "outputs": [],
   "source": [
    "def q_sort(lst, l, r):  # 失败的原因未知\n",
    "    if l >= r:\n",
    "        return\n",
    "    i, j = l, r\n",
    "    pivot = lst[i]\n",
    "    while i < j:\n",
    "        while i < j and lst[j] >= pivot:\n",
    "            j -= 1\n",
    "        if i < j:a\n",
    "            lst[i] = lst[j]  # i的步进统一在下面\n",
    "        while i < j and lst[i] <= pivot:\n",
    "            i += 1\n",
    "        if i < j:\n",
    "            lst[j] = lst[i]\n",
    "    lst[i] = pivot\n",
    "    q_sort(lst, l, i-1)  # 两个边界可以取到\n",
    "    q_sort(lst, i+1, r)\n",
    "    \n",
    "import sys\n",
    "while True:\n",
    "    try:\n",
    "        data = []\n",
    "        num = sys.stdin.readline()    \n",
    "        for i in range(int(num)):\n",
    "            data.append(int(sys.stdin.readline()))\n",
    "        q_sort(data, 0, len(data)-1)\n",
    "        data = set(data)\n",
    "        for i in data:\n",
    "            print(i)\n",
    "    except:\n",
    "        break"
   ]
  },
  {
   "cell_type": "code",
   "execution_count": null,
   "metadata": {},
   "outputs": [],
   "source": []
  },
  {
   "cell_type": "markdown",
   "metadata": {},
   "source": [
    "4、题目描述<br>\n",
    "•连续输入字符串，请按长度为8拆分每个字符串后输出到新的字符串数组；<br>\n",
    "•长度不是8整数倍的字符串请在后面补数字0，空字符串不处理。<br>"
   ]
  },
  {
   "cell_type": "code",
   "execution_count": 40,
   "metadata": {},
   "outputs": [
    {
     "name": "stdout",
     "output_type": "stream",
     "text": [
      "abc\n",
      "123\n",
      "abc00000\n",
      "12300000\n"
     ]
    }
   ],
   "source": [
    "a = input()\n",
    "b = input()\n",
    "res = []\n",
    "def recons(data):\n",
    "    l = 0\n",
    "    while l<len(data):\n",
    "        res.append(data[l:l+8])\n",
    "        l += 8\n",
    "    if len(res[-1]) < 8:\n",
    "        res[-1] += '0'*(8-len(res[-1]))\n",
    "if a:\n",
    "    recons(a)\n",
    "if b:\n",
    "    recons(b)\n",
    "for i in res:\n",
    "    print(i)"
   ]
  },
  {
   "cell_type": "code",
   "execution_count": null,
   "metadata": {},
   "outputs": [],
   "source": []
  },
  {
   "cell_type": "markdown",
   "metadata": {},
   "source": [
    "5、题目描述<br>\n",
    "写出一个程序，接受一个十六进制的数，输出该数值的十进制表示。（多组同时输入 ）"
   ]
  },
  {
   "cell_type": "code",
   "execution_count": null,
   "metadata": {},
   "outputs": [],
   "source": [
    "def parse(char):\n",
    "    try:\n",
    "        return int(char)\n",
    "    except:\n",
    "        return ord(char)-55\n",
    "while True:\n",
    "    try:\n",
    "        data = input()[2:]\n",
    "        le = len(data)\n",
    "        res = 0\n",
    "        n = 0\n",
    "        for i in range(le-1, -1, -1):\n",
    "            d = data[i]\n",
    "            d = parse(d)\n",
    "            res += pow(16, n) * d\n",
    "            n += 1\n",
    "        print(res)\n",
    "    except:\n",
    "        break"
   ]
  },
  {
   "cell_type": "markdown",
   "metadata": {},
   "source": [
    "其他答案："
   ]
  },
  {
   "cell_type": "code",
   "execution_count": 11,
   "metadata": {},
   "outputs": [
    {
     "name": "stdout",
     "output_type": "stream",
     "text": [
      "0XA5\n",
      "165\n"
     ]
    }
   ],
   "source": [
    "string = input()  # 是零不是欧\n",
    "print(int(string, 16))"
   ]
  },
  {
   "cell_type": "code",
   "execution_count": null,
   "metadata": {},
   "outputs": [],
   "source": []
  },
  {
   "cell_type": "markdown",
   "metadata": {},
   "source": [
    "6、题目描述<br>\n",
    "功能:输入一个正整数，按照从小到大的顺序输出它的所有质因子（如180的质因子为2 2 3 3 5 ）<br>\n",
    "最后一个数后面也要有空格"
   ]
  },
  {
   "cell_type": "code",
   "execution_count": 20,
   "metadata": {},
   "outputs": [
    {
     "name": "stdout",
     "output_type": "stream",
     "text": [
      "请输入要分解的正整数：5\n",
      "5 "
     ]
    }
   ],
   "source": [
    "num = int(input(\"请输入要分解的正整数：\"))\n",
    " \n",
    "temp = []\n",
    "while num!=1:\n",
    "    for i in range(2,num+1):\n",
    "        if num%i == 0:\n",
    "            print(i, end=' ')\n",
    "            num //= i\n",
    "            break # 停止循环，开始下一次循环"
   ]
  },
  {
   "cell_type": "code",
   "execution_count": null,
   "metadata": {},
   "outputs": [],
   "source": []
  },
  {
   "cell_type": "markdown",
   "metadata": {},
   "source": [
    "7、题目描述<br>\n",
    "写出一个程序，接受一个正浮点数值，输出该数值的近似整数值。如果小数点后数值大于等于5,向上取整；小于5，则向下取整。<br>\n",
    "向下取整：int()<br>\n",
    "向上取整: math.ceil()<br>\n",
    "四舍五入: round()  这个函数容易错，因为1.5会返回01<br>\n",
    "整数和小数的分割： modf"
   ]
  },
  {
   "cell_type": "code",
   "execution_count": 24,
   "metadata": {},
   "outputs": [
    {
     "name": "stdout",
     "output_type": "stream",
     "text": [
      "4.2\n",
      "4\n"
     ]
    }
   ],
   "source": [
    "import math\n",
    "x = float(input())\n",
    "if x > 5:\n",
    "    print(math.ceil(x))\n",
    "else:\n",
    "    print(int(x))"
   ]
  },
  {
   "cell_type": "code",
   "execution_count": null,
   "metadata": {},
   "outputs": [],
   "source": []
  },
  {
   "cell_type": "markdown",
   "metadata": {},
   "source": [
    "8、题目描述<br>\n",
    "数据表记录包含表索引和数值（int范围的整数），请对表索引相同的记录进行合并，即将相同索引的数值进行求和运算，输出按照key值升序进行输出。"
   ]
  },
  {
   "cell_type": "code",
   "execution_count": 37,
   "metadata": {},
   "outputs": [],
   "source": [
    "num = int(input())\n",
    "total_dict = {}\n",
    "res = []\n",
    "for i in range(num):\n",
    "    data = input()\n",
    "    data = data.strip().split()\n",
    "    l , r = int(data[0]), int(data[1])\n",
    "    if l in total_dict:\n",
    "        total_dict[l] += r\n",
    "    else:\n",
    "        total_dict[l] = r \n",
    "\n",
    "for i in sorted(total_dict):\n",
    "    print(i, total_dict[i])"
   ]
  },
  {
   "cell_type": "code",
   "execution_count": null,
   "metadata": {},
   "outputs": [],
   "source": []
  },
  {
   "cell_type": "markdown",
   "metadata": {},
   "source": [
    "**9、题目描述**<br>\n",
    "输入一个int型整数，按照从右向左的阅读顺序，返回一个不含重复数字的新的整数。<br>\n",
    "输入  9876673<br>\n",
    "输出  37689<br>"
   ]
  },
  {
   "cell_type": "code",
   "execution_count": 53,
   "metadata": {},
   "outputs": [],
   "source": [
    "from collections import defaultdict\n",
    "r_dict = defaultdict()"
   ]
  },
  {
   "cell_type": "code",
   "execution_count": 67,
   "metadata": {},
   "outputs": [
    {
     "name": "stdout",
     "output_type": "stream",
     "text": [
      "2752771\n",
      "[1, 7, 2, 5]\n",
      "1725\n"
     ]
    }
   ],
   "source": [
    "x = input()\n",
    "res = []\n",
    "num = 0\n",
    "n = 0\n",
    "for i in range(len(x)-1, -1, -1):\n",
    "    if int(x[i]) not in res:\n",
    "        res.append(int(x[i]))\n",
    "print(res)\n",
    "for i in range(len(res)-1, -1, -1):\n",
    "    num += pow(10, len(res)-1-i)*res[i]\n",
    "print(num)"
   ]
  },
  {
   "cell_type": "code",
   "execution_count": 68,
   "metadata": {},
   "outputs": [
    {
     "name": "stdout",
     "output_type": "stream",
     "text": [
      "2752771\n",
      "1725\n"
     ]
    }
   ],
   "source": [
    "num = input()\n",
    "num = num[::-1]  # 数据间隔-1：反转 \n",
    "num1 = list(set(num))   # 去重\n",
    "num1.sort(key=num.index)  # 排序，按照反转后的顺序\n",
    "print(''.join(num1))"
   ]
  },
  {
   "cell_type": "markdown",
   "metadata": {},
   "source": [
    "10-14跳过，太简单了"
   ]
  },
  {
   "cell_type": "markdown",
   "metadata": {},
   "source": [
    "15、进制转换"
   ]
  },
  {
   "cell_type": "code",
   "execution_count": null,
   "metadata": {},
   "outputs": [],
   "source": [
    "# 转化为2进制\n",
    "x = int(input())\n",
    "def tobin(x):\n",
    "    res = \"\"\n",
    "    if x == 0:\n",
    "        return str(0)\n",
    "    while x>0:\n",
    "        res += str(x%2)\n",
    "        x //= 2\n",
    "    return res\n",
    "print(tobin(x).count('1'))"
   ]
  },
  {
   "cell_type": "code",
   "execution_count": null,
   "metadata": {},
   "outputs": [],
   "source": []
  },
  {
   "cell_type": "markdown",
   "metadata": {},
   "source": [
    "16、购物单  # 贪心，但是权值计算有问题  分组背包"
   ]
  },
  {
   "cell_type": "code",
   "execution_count": null,
   "metadata": {},
   "outputs": [],
   "source": [
    "first = input().strip().split()\n",
    "total, nums = int(first[0]), int(first[1])\n",
    "#print('total_price,good_nums',total, nums)\n",
    "good_info = [[]  for _ in range(nums)]\n",
    "#print(good_info)\n",
    "for i in range(nums):  # 商品信息初始化\n",
    "    info = input().strip().split()\n",
    "    good_info[i] = [int(info[1]), int(info[0]), int(info[2])] # 权重 价格 主商品编号\n",
    "    if int(info[2]) != 0:\n",
    "        good_info[int(info[2])-1].append([int(info[1]), int(info[0]), int(info[2])])\n",
    "#print('good_info', good_info)\n",
    "\n",
    "for i in range(nums):\n",
    "    if len(good_info[i])==3 and good_info[i][2] != 0:  # 处理附件信息\n",
    "        #print('hhhhhhhhhhhhhhhhhhhhhhh')\n",
    "        app_info = good_info[i]  # 附件信息\n",
    "        main_info = good_info[app_info[2]-1]  # 主件信息\n",
    "        m_price, m_wei = main_info[1], main_info[0]\n",
    "        new_price = m_price + app_info[1]\n",
    "        new_wei = (m_price * m_wei + app_info[0] * app_info[1])/new_price\n",
    "        \n",
    "        app_info = [new_wei, new_price] + [app_info[2]]\n",
    "        #print('附件新信息',app_info)\n",
    "        good_info[i] = app_info\n",
    "#print('new_info', good_info)\n",
    "\n",
    "for i in range(nums):\n",
    "    if len(good_info[i]) > 3:  # 处理主件信息\n",
    "        #print('hhhhhhhhhhhhhhhhhhhhhhh')\n",
    "        app_price, app_cross = 0, 0\n",
    "        for j in range(len(good_info[i])-1, 2, -1):\n",
    "            app_price += good_info[i][j][1]\n",
    "            app_cross += good_info[i][j][0] * good_info[i][j][1]\n",
    "        total_price = app_price + good_info[i][1]\n",
    "        total_cross = app_cross + good_info[i][0] * good_info[i][1]\n",
    "        total_wei = total_cross/total_price\n",
    "        good_info[i] = [total_wei, total_price, i+1]\n",
    "#print('final_info', good_info)\n",
    "\n",
    "good_info.sort(reverse=True)\n",
    "#print('sort_info', good_info)\n",
    "already = []\n",
    "res_cross = 0\n",
    "for good in good_info:\n",
    "    if good[1] <= total and good[2] not in already:\n",
    "        res_cross += good[0] * good[1]\n",
    "        total -= good[1]\n",
    "        if good[2] != 0:\n",
    "            already.append(good[2])        \n",
    "print(int(res_cross))"
   ]
  },
  {
   "cell_type": "code",
   "execution_count": null,
   "metadata": {},
   "outputs": [],
   "source": []
  },
  {
   "cell_type": "markdown",
   "metadata": {},
   "source": [
    "17、题目太长了，不写了，主要是正则匹配<br>\n",
    "right = re.match(r'[ADWS]\\d+$', data)<br>\n",
    "print(','.join(map(str, pos)))<br>"
   ]
  },
  {
   "cell_type": "code",
   "execution_count": null,
   "metadata": {},
   "outputs": [],
   "source": []
  },
  {
   "cell_type": "markdown",
   "metadata": {},
   "source": [
    "18、ip地址匹配 和 进制转换\n",
    "二进制:bin(100)\n",
    "八进制：oct(100)\n",
    "16进制：hex(100)   没有调好，只有50%accept"
   ]
  },
  {
   "cell_type": "code",
   "execution_count": 62,
   "metadata": {},
   "outputs": [
    {
     "data": {
      "text/plain": [
       "['19', '', '0', '']"
      ]
     },
     "execution_count": 62,
     "metadata": {},
     "output_type": "execute_result"
    }
   ],
   "source": [
    "import sys\n",
    "import re\n",
    "\n",
    "def mask_check(mask_str):\n",
    "    mask_seg = mask_str.strip().split('.')  # 4\n",
    "    mask_seg = [int(i) for i in mask_seg]\n",
    "    if len(mask_seg) != 4:\n",
    "        return False\n",
    "    total_mask = ''\n",
    "    for mask in mask_seg:\n",
    "        total_mask += bin(mask)[2:]\n",
    "    # print(total_mask)\n",
    "    check = re.match(r'[1]+[0]+$', total_mask)\n",
    "    if check:\n",
    "        return True\n",
    "    else:\n",
    "        return False\n",
    "\n",
    "\n",
    "def ip_check(ip_str):\n",
    "    ip_seg = ip_str.strip().split('.')  # 4\n",
    "    if len(ip_seg) != 4:\n",
    "        return False\n",
    "    try:\n",
    "        ip_seg = [int(i) for i in ip_seg]\n",
    "\n",
    "        if 1 <= ip_seg[0] <= 126 and 0 <= ip_seg[1] <= 255 and 0 <= ip_seg[2] <= 255 and 0 <= ip_seg[3] <= 255:\n",
    "            res = 'A'\n",
    "            if ip_seg[0] == 10 and 0 <= ip_seg[1] <= 255 and 0 <= ip_seg[2] <= 255 and 0 <= ip_seg[3] <= 255:\n",
    "                res = 'A+'\n",
    "\n",
    "        elif 128 <= ip_seg[0] <= 191 and 0 <= ip_seg[1] <= 255 and 0 <= ip_seg[2] <= 255 and 0 <= ip_seg[3] <= 255:\n",
    "            res = 'B'\n",
    "            if ip_seg[0] == 172 and 16 <= ip_seg[1] <= 31 and 0 <= ip_seg[2] <= 255 and 0 <= ip_seg[3] <= 255:\n",
    "                res = 'B+'\n",
    "\n",
    "        elif 192 <= ip_seg[0] <= 223 and 0 <= ip_seg[1] <= 255 and 0 <= ip_seg[2] <= 255 and 0 <= ip_seg[3] <= 255:\n",
    "            res = 'C'\n",
    "            if ip_seg[0] == 192 and ip_seg[1] == 168 and 0 <= ip_seg[2] <= 255 and 0 <= ip_seg[3] <= 255:\n",
    "                res = 'C+'\n",
    "\n",
    "        elif 224 <= ip_seg[0] <= 239 and 0 <= ip_seg[1] <= 255 and 0 <= ip_seg[2] <= 255 and 0 <= ip_seg[3] <= 255:\n",
    "            res = 'D'\n",
    "        elif 240 <= ip_seg[0] <= 255 and 0 <= ip_seg[1] <= 255 and 0 <= ip_seg[2] <= 255 and 0 <= ip_seg[3] <= 255:\n",
    "            res = 'E'\n",
    "        elif ip_seg[0] == 0:\n",
    "            res = 'pass'\n",
    "        else:\n",
    "            return False\n",
    "        return res\n",
    "    except:\n",
    "        return False\n",
    "\n",
    "\n",
    "# [A B C D E False private]\n",
    "map_dic = {'A': [0], 'A+': [0, 6], 'B': [1], 'B+': [1, 6], 'C': [2], 'C+': [2, 6], 'D': [3], 'E': [4], 'private': [6], 'pass':[]}\n",
    "res = [0] * 7\n",
    "while True:\n",
    "    try:\n",
    "        ip_mask = sys.stdin.readline()\n",
    "        ip, mask = ip_mask.strip().split('~')\n",
    "        # print(ip, mask)\n",
    "        ip_ret = ip_check(ip)\n",
    "        # print(ip_ret, mask_check(mask))\n",
    "        if mask_check(mask) and ip_ret:\n",
    "            for index in map_dic[ip_ret]:\n",
    "                res[index] += 1\n",
    "        else:\n",
    "            res[5] += 1\n",
    "        # print(res)\n",
    "    except:\n",
    "        print(' '.join(map(str, res)))\n",
    "        break"
   ]
  },
  {
   "cell_type": "code",
   "execution_count": null,
   "metadata": {},
   "outputs": [],
   "source": []
  },
  {
   "cell_type": "markdown",
   "metadata": {},
   "source": [
    "19、简单错误记录<br>\n",
    "下面两段代码是我写的和第一名，我的代码不能运行<br>\n",
    "**首先**、是没有理解题目的意思：我以为是对最后8条信息合并，但实际上是记录8条新的错误信息，<br>\n",
    "并显示次数仔细想下就能看出区别，第二种方式更合理。<br>\n",
    "**第二**、受制于8这个数字，因为实际的错误可能小于8，就造成思路很繁琐，所以尽量不要用这种<br>\n",
    "思维，**而是用状态决定输出**，直接列表切片，而不是用循环来控制输出。<br>\n",
    "**第三**、学习数据清洗<br>\n",
    "**综合以上**，需要用一个列表记录新的错误信息，而用一个dict记录次数。<br>\n",
    "**路径匹配的正确方法**：<br>\n",
    "a = r'E:\\V1R2\\product\\fpgadrive.c'<br>\n",
    "re.split(r'\\\\',a) 屏幕显示的是一个斜线，但实际上是两个斜线<br>\n",
    "['E:', 'V1R2', 'product', 'fpgadrive.c  1025']<br>"
   ]
  },
  {
   "cell_type": "code",
   "execution_count": null,
   "metadata": {},
   "outputs": [],
   "source": [
    "import re\n",
    "err_dict = {}\n",
    "res = []\n",
    "while True:\n",
    "    try:\n",
    "        x = input().strip()\n",
    "        #path, line = re.split(r' +', x)  # 以下的匹配都测试通过\n",
    "        path, line = x.split()  # 空格分割\n",
    "        #path = re.split(r'\\\\', path)[-1]\n",
    "        path = path.split('\\\\')[-1]\n",
    "        if len(path) > 16:\n",
    "            path = path[-16:]\n",
    "        info = path+' '+line\n",
    "        if info not in err_dict:\n",
    "            err_dict[info] = 1\n",
    "            res.append(info)\n",
    "        else:\n",
    "            err_dict[info] += 1\n",
    "    except:\n",
    "        break\n",
    "\n",
    "if len(res) >8:\n",
    "    res = res[-8:]\n",
    "for info in res:\n",
    "    print(info+' '+str(err_dict[info]))"
   ]
  },
  {
   "cell_type": "code",
   "execution_count": null,
   "metadata": {},
   "outputs": [],
   "source": []
  },
  {
   "cell_type": "markdown",
   "metadata": {},
   "source": [
    "20、**密码验证**<br>\n",
    "1.长度超过8位<br>\n",
    "2.包括大小写字母.数字.其它符号,以上四种至少三种<br>\n",
    "3.不能有相同长度超2的子串重复  **什么意思**<br>"
   ]
  },
  {
   "cell_type": "code",
   "execution_count": null,
   "metadata": {},
   "outputs": [],
   "source": [
    "def fun1(s):\n",
    "    if len(s)>8:\n",
    "        return True\n",
    "    else:\n",
    "        return False\n",
    "   \n",
    "def fun2(s):\n",
    "    num1=0\n",
    "    num2=0\n",
    "    num3=0\n",
    "    num4=0\n",
    "    for ss in s:\n",
    "        if 'a'<=ss<='z' :\n",
    "            num1=1\n",
    "        elif 'A'<=ss<='Z':\n",
    "            num2=1\n",
    "        elif '1'<=ss<='9':\n",
    "            num3=1\n",
    "        else:\n",
    "            num4=1\n",
    "    if (num1+num2+num3+num4)>=3:\n",
    "        return True\n",
    "    else:\n",
    "        return False\n",
    "   \n",
    "# def fun3(s):  # 值得借鉴，但是可以用正则匹配\n",
    "#     for i in range((len(s)-3)):\n",
    "#          if s[i:i+3] in s[i+1:]:\n",
    "#              return False\n",
    "#              break\n",
    "#     return True\n",
    "def fun3(s):  #\n",
    "    lst = [0]*len(s)\n",
    "    for i in range(1,len(s)):\n",
    "        if s[i] == s[i-1]:\n",
    "            lst[i] = lst[i] + 1\n",
    "    return max(lst)>=2\n",
    "   \n",
    "while True:\n",
    "    try:\n",
    "        a=input()\n",
    "        if fun1(a) and fun2(a) and fun3(a):\n",
    "            print('OK')\n",
    "        else:\n",
    "            print('NG')\n",
    "    except:\n",
    "           break\n"
   ]
  },
  {
   "cell_type": "code",
   "execution_count": null,
   "metadata": {},
   "outputs": [],
   "source": [
    "import re  # 第二种方法\n",
    "try:\n",
    "    while 1:         \n",
    "        s = input()         \n",
    "        a = re.findall(r'(.{3,}).*\\1', s)\n",
    "        b1 = re.findall(r'\\d', s)\n",
    "        b2 = re.findall(r'[A-Z]', s)\n",
    "        b3 = re.findall(r'[a-z]', s)\n",
    "        b4 = re.findall(r'[^0-9A-Za-z]', s)\n",
    "        print('OK' if ([b1, b2, b3, b4].count([]) <= 1 and a == [] and len(s) > 8) else 'NG')      \n",
    "except:\n",
    "    pass"
   ]
  },
  {
   "cell_type": "code",
   "execution_count": 1,
   "metadata": {},
   "outputs": [],
   "source": [
    "import re"
   ]
  },
  {
   "cell_type": "code",
   "execution_count": 23,
   "metadata": {},
   "outputs": [
    {
     "data": {
      "text/plain": [
       "'S^2'"
      ]
     },
     "execution_count": 23,
     "metadata": {},
     "output_type": "execute_result"
    }
   ],
   "source": [
    "re.search(r'.{3,}', 'S^2').group(0) # bug,点号可以是任一的字符，而不是同一个字符"
   ]
  },
  {
   "cell_type": "code",
   "execution_count": 30,
   "metadata": {},
   "outputs": [
    {
     "data": {
      "text/plain": [
       "['sss']"
      ]
     },
     "execution_count": 30,
     "metadata": {},
     "output_type": "execute_result"
    }
   ],
   "source": [
    "re.findall(r'(.{3,}).*\\1', 'Sssssss^2')  # 对\\1的说明 https://www.cnblogs.com/qiqi105/p/9054861.html"
   ]
  },
  {
   "cell_type": "code",
   "execution_count": null,
   "metadata": {},
   "outputs": [],
   "source": []
  },
  {
   "cell_type": "markdown",
   "metadata": {},
   "source": [
    "**21、密码变换**\n",
    "他是这么变换的，大家都知道手机上的字母： 1--1， abc--2, def--3, ghi--4, jkl--5, mno--6, pqrs--7, tuv--8 wxyz--9, 0--0,就这么简单，\n",
    "渊子把密码中出现的小写字母都变成对应的数字，数字和其他的符号都不做变换， \n",
    "\n",
    "**声明**：密码中没有空格，而密码中出现的大写字母则变成小写之后往后移一位，如：X，先变成小写，再往后移一位，不就是y了嘛，简单吧。记住，\n",
    "z往后移是a哦。"
   ]
  },
  {
   "cell_type": "markdown",
   "metadata": {},
   "source": [
    "**知识点：**<br>\n",
    "ord：根据字母求字母序<br>\n",
    "chr：根据字母序求字母<br>\n",
    "isupper():判断大写<br>\n",
    "islower()：判断小写<br>\n",
    "ps1:str类型可以作为迭代器，但是不能用split函数拆开"
   ]
  },
  {
   "cell_type": "code",
   "execution_count": null,
   "metadata": {},
   "outputs": [],
   "source": [
    "new = \"\"\n",
    "while True:\n",
    " \n",
    "    try:\n",
    "        m=input()\n",
    " \n",
    "        for i in m:\n",
    "            if i.isupper() :\n",
    "                if i is not 'Z':\n",
    "                    new+=chr(ord(i.lower())+1)\n",
    "                elif  i is 'Z':\n",
    "                    new+='a'\n",
    "            elif i.islower():\n",
    "                if i in 'abc':\n",
    "                    new += '2'\n",
    "                elif i in 'def':\n",
    "                    new += '3'\n",
    "                elif i in 'ghi':\n",
    "                    new += '4'\n",
    "                elif i in 'jkl':\n",
    "                    new += '5'\n",
    "                elif i in 'mno':\n",
    "                    new += '6'\n",
    "                elif i in 'pqrs':\n",
    "                    new += '7'\n",
    "                elif i in 'tuv':\n",
    "                    new += '8'\n",
    "                elif i in 'wxyz':\n",
    "                    new += '9'\n",
    "            elif i.isdigit():\n",
    "                new+=i\n",
    " \n",
    "    except:\n",
    "        break\n",
    " \n",
    "print(new.strip())"
   ]
  },
  {
   "cell_type": "code",
   "execution_count": 34,
   "metadata": {},
   "outputs": [
    {
     "name": "stdout",
     "output_type": "stream",
     "text": [
      "a\n",
      "s\n",
      "d\n"
     ]
    }
   ],
   "source": [
    "for i in 'asd':\n",
    "    print(i)"
   ]
  },
  {
   "cell_type": "code",
   "execution_count": 39,
   "metadata": {},
   "outputs": [
    {
     "data": {
      "text/plain": [
       "90"
      ]
     },
     "execution_count": 39,
     "metadata": {},
     "output_type": "execute_result"
    }
   ],
   "source": [
    "ord('Z')"
   ]
  },
  {
   "cell_type": "code",
   "execution_count": null,
   "metadata": {},
   "outputs": [],
   "source": []
  }
 ],
 "metadata": {
  "kernelspec": {
   "display_name": "Python 3",
   "language": "python",
   "name": "python3"
  },
  "language_info": {
   "codemirror_mode": {
    "name": "ipython",
    "version": 3
   },
   "file_extension": ".py",
   "mimetype": "text/x-python",
   "name": "python",
   "nbconvert_exporter": "python",
   "pygments_lexer": "ipython3",
   "version": "3.6.2"
  }
 },
 "nbformat": 4,
 "nbformat_minor": 4
}
