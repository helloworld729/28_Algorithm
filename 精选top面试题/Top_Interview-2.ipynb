{
 "cells": [
  {
   "cell_type": "markdown",
   "metadata": {},
   "source": [
    "**22. 括号生成**<br>\n",
    "数字 n 代表生成括号的对数，请你设计一个函数，用于能够生成所有可能的并且 有效的 括号组合。<br>\n",
    "示例：<br>\n",
    "输入：n = 3<br>\n",
    "输出：[<br>\n",
    "       \"((()))\",<br>\n",
    "       \"(()())\",<br>\n",
    "       \"(())()\",<br>\n",
    "       \"()(())\",<br>\n",
    "       \"()()()\" <br>\n",
    "     ]<br>\n",
    "思路：递归,在推进的时候判断判断左右括号的数目（左大于右，且少于一半）。<br>\n",
    "为什么要pop呢？因为列表的元素是共享的，为了防止左右推进的时候相互影响，所以要在回溯的时候pop掉，回退到开始的状态<br>\n",
    "也可以增加空间复杂度直接拷贝一个列表。<br>"
   ]
  },
  {
   "cell_type": "code",
   "execution_count": null,
   "metadata": {},
   "outputs": [],
   "source": [
    "class Solution:\n",
    "    def generateParenthesis(self, n: int) -> List[str]:\n",
    "        res = []\n",
    "        def generate(contain, time=0, l=0, r=0):\n",
    "            if time == 2*n:\n",
    "                res.append(\"\".join(contain))\n",
    "                return\n",
    "            if (l >= r) and (l<= n-1):\n",
    "                contain.append('(')\n",
    "                generate(contain, time=time+1, l=l+1, r=r)\n",
    "                contain.pop()\n",
    "            if (l >= r) and (r <= n-1):\n",
    "                contain.append(')')\n",
    "                generate(contain, time=time+1, l=l, r=r+1)\n",
    "                contain.pop()\n",
    "        generate([])\n",
    "        return res"
   ]
  },
  {
   "cell_type": "code",
   "execution_count": null,
   "metadata": {},
   "outputs": [],
   "source": [
    "class Solution:\n",
    "    def generateParenthesis(self, n: int) -> List[str]:\n",
    "        res = []\n",
    "        def generate(contain, time=0, l=0, r=0):\n",
    "            if time == 2*n:\n",
    "                res.append(\"\".join(contain))\n",
    "                return\n",
    "            contain2 = list(contain)\n",
    "            if (l >= r) and (l<= n-1):\n",
    "                contain.append('(')\n",
    "                generate(contain, time=time+1, l=l+1, r=r)\n",
    "            if (l >= r) and (r <= n-1):\n",
    "                contain2.append(')')\n",
    "                generate(contain2, time=time+1, l=l, r=r+1)\n",
    "        generate([])\n",
    "        return res"
   ]
  },
  {
   "cell_type": "code",
   "execution_count": null,
   "metadata": {},
   "outputs": [],
   "source": []
  },
  {
   "cell_type": "markdown",
   "metadata": {},
   "source": [
    "46. 全排列\n",
    "给定一个 没有重复 数字的序列，返回其所有可能的全排列。\n",
    "\n",
    "示例:\n",
    "\n",
    "输入: [1,2,3]\n",
    "输出:\n",
    "[\n",
    "  [1,2,3],\n",
    "  [1,3,2],\n",
    "  [2,1,3],\n",
    "  [2,3,1],\n",
    "  [3,1,2],\n",
    "  [3,2,1]\n",
    "]<br>\n",
    "知识点：递归"
   ]
  },
  {
   "cell_type": "code",
   "execution_count": null,
   "metadata": {},
   "outputs": [],
   "source": [
    "class Solution:\n",
    "    def permute(self, nums: List[int]) -> List[List[int]]:        \n",
    "        def fun(nums):\n",
    "            if len(nums) == 1:\n",
    "                return [nums]\n",
    "            elif len(nums) == 2:\n",
    "                return [nums, [nums[1], nums[0]]]\n",
    "            this = []\n",
    "            for i in range(len(nums)):\n",
    "                new = nums[:i]\n",
    "                if i+1 < len(nums):\n",
    "                    new += nums[i+1:]\n",
    "                for cont in fun(new):\n",
    "                    this.append([nums[i]] + cont)\n",
    "            return this\n",
    "        return fun(nums)"
   ]
  }
 ],
 "metadata": {
  "kernelspec": {
   "display_name": "Python 3",
   "language": "python",
   "name": "python3"
  },
  "language_info": {
   "codemirror_mode": {
    "name": "ipython",
    "version": 3
   },
   "file_extension": ".py",
   "mimetype": "text/x-python",
   "name": "python",
   "nbconvert_exporter": "python",
   "pygments_lexer": "ipython3",
   "version": "3.6.2"
  }
 },
 "nbformat": 4,
 "nbformat_minor": 4
}
