{
 "cells": [
  {
   "cell_type": "markdown",
   "metadata": {},
   "source": [
    "**22. 括号生成**<br>\n",
    "数字 n 代表生成括号的对数，请你设计一个函数，用于能够生成所有可能的并且 有效的 括号组合。<br>\n",
    "示例：<br>\n",
    "输入：n = 3<br>\n",
    "输出：[<br>\n",
    "       \"((()))\",<br>\n",
    "       \"(()())\",<br>\n",
    "       \"(())()\",<br>\n",
    "       \"()(())\",<br>\n",
    "       \"()()()\" <br>\n",
    "     ]<br>\n",
    "思路：递归,在推进的时候判断判断左右括号的数目（左大于右，且少于一半）。<br>\n",
    "为什么要pop呢？因为列表的元素是共享的，为了防止左右推进的时候相互影响，所以要在回溯的时候pop掉，回退到开始的状态<br>\n",
    "也可以增加空间复杂度直接拷贝一个列表。<br>"
   ]
  },
  {
   "cell_type": "code",
   "execution_count": null,
   "metadata": {
    "collapsed": true
   },
   "outputs": [],
   "source": [
    "class Solution:\n",
    "    def generateParenthesis(self, n: int) -> List[str]:\n",
    "        res = []\n",
    "        def generate(contain, time=0, l=0, r=0):\n",
    "            if time == 2*n:\n",
    "                res.append(\"\".join(contain))\n",
    "                return\n",
    "            if (l >= r) and (l<= n-1):\n",
    "                contain.append('(')\n",
    "                generate(contain, time=time+1, l=l+1, r=r)\n",
    "                contain.pop()\n",
    "            if (l >= r) and (r <= n-1):\n",
    "                contain.append(')')\n",
    "                generate(contain, time=time+1, l=l, r=r+1)\n",
    "                contain.pop()\n",
    "        generate([])\n",
    "        return res"
   ]
  },
  {
   "cell_type": "code",
   "execution_count": null,
   "metadata": {
    "collapsed": true
   },
   "outputs": [],
   "source": [
    "class Solution:\n",
    "    def generateParenthesis(self, n: int) -> List[str]:\n",
    "        res = []\n",
    "        def generate(contain, time=0, l=0, r=0):\n",
    "            if time == 2*n:\n",
    "                res.append(\"\".join(contain))\n",
    "                return\n",
    "            contain2 = list(contain)\n",
    "            if (l >= r) and (l<= n-1):\n",
    "                contain.append('(')\n",
    "                generate(contain, time=time+1, l=l+1, r=r)\n",
    "            if (l >= r) and (r <= n-1):\n",
    "                contain2.append(')')\n",
    "                generate(contain2, time=time+1, l=l, r=r+1)\n",
    "        generate([])\n",
    "        return res"
   ]
  },
  {
   "cell_type": "code",
   "execution_count": null,
   "metadata": {
    "collapsed": true
   },
   "outputs": [],
   "source": []
  },
  {
   "cell_type": "markdown",
   "metadata": {},
   "source": [
    "46 全排列<br>\n",
    "给定一个 没有重复 数字的序列，返回其所有可能的全排列。<br>\n",
    "示例:<br>\n",
    "输入: [1,2,3]<br>\n",
    "输出:<br>\n",
    "[<br>\n",
    "  &emsp;&emsp;[1,&emsp;2,&emsp;3],<br>\n",
    "  &emsp;&emsp;[1,&emsp;3,&emsp;2],<br>\n",
    "  &emsp;&emsp;[2,&emsp;1,&emsp;3],<br>\n",
    "  &emsp;&emsp;[2,&emsp;3,&emsp;1],<br>\n",
    "  &emsp;&emsp;[3,&emsp;1,&emsp;2],<br>\n",
    "  &emsp;&emsp;[3,&emsp;2,&emsp;1]<br>\n",
    "]<br>\n",
    "知识点：递归<br>"
   ]
  },
  {
   "cell_type": "code",
   "execution_count": null,
   "metadata": {
    "collapsed": true
   },
   "outputs": [],
   "source": [
    "class Solution:\n",
    "    def permute(self, nums: List[int]) -> List[List[int]]:        \n",
    "        def fun(nums):\n",
    "            if len(nums) == 1:\n",
    "                return [nums]\n",
    "            elif len(nums) == 2:\n",
    "                return [nums, [nums[1], nums[0]]]\n",
    "            this = []\n",
    "            for i in range(len(nums)):\n",
    "                new = nums[:i]\n",
    "                if i+1 < len(nums):\n",
    "                    new += nums[i+1:]\n",
    "                for cont in fun(new):\n",
    "                    this.append([nums[i]] + cont)\n",
    "            return this\n",
    "        return fun(nums)"
   ]
  },
  {
   "cell_type": "markdown",
   "metadata": {},
   "source": [
    "136 只出现一次的数字<br>\n",
    "给定一个非空整数数组，除了某个元素只出现一次以外，其余每个元素均出现两次。找出那个只出现了一次的元素。<br>\n",
    "说明：<br>\n",
    "你的算法应该具有线性时间复杂度。 你可以不使用额外空间来实现吗？<br>\n",
    "示例 1:<br>\n",
    "输入: [2,2,1]<br>\n",
    "输出: 1<br>\n",
    "思路：位运算，自身亦或为0，亦或0位自身，亦或具有结合律<br>\n",
    "\n",
    "来源：力扣（LeetCode）<br>\n",
    "链接：https://leetcode-cn.com/problems/single-number<br>"
   ]
  },
  {
   "cell_type": "code",
   "execution_count": 3,
   "metadata": {
    "collapsed": false
   },
   "outputs": [],
   "source": [
    "class Solution: #\n",
    "    def singleNumber(self, nums) -> int:\n",
    "        ret = 0\n",
    "        for data in nums:\n",
    "            ret ^= data\n",
    "        return ret"
   ]
  },
  {
   "cell_type": "code",
   "execution_count": null,
   "metadata": {
    "collapsed": true
   },
   "outputs": [],
   "source": []
  }
 ],
 "metadata": {
  "kernelspec": {
   "display_name": "Python 3",
   "language": "python",
   "name": "python3"
  },
  "language_info": {
   "codemirror_mode": {
    "name": "ipython",
    "version": 3
   },
   "file_extension": ".py",
   "mimetype": "text/x-python",
   "name": "python",
   "nbconvert_exporter": "python",
   "pygments_lexer": "ipython3",
   "version": "3.6.0"
  }
 },
 "nbformat": 4,
 "nbformat_minor": 4
}
