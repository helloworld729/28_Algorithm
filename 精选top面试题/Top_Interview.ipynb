{
 "cells": [
  {
   "cell_type": "markdown",
   "metadata": {},
   "source": [
    "**面试题 16.06. 最小差**<br>\n",
    "给定两个整数数组a和b，计算具有最小差绝对值的一对数值（每个数组中取一个值），并返回该对数值的差<br>\n",
    "示例：<br>\n",
    "输入：{1, 3, 15, 11, 2}, {23, 127, 235, 19, 8}<br>\n",
    "输出： 3，即数值对(11, 8)<br>\n",
    "思路1：排序 + 二分 nlogn\n",
    "思路2：排序 + 双指针 nlogn"
   ]
  },
  {
   "cell_type": "code",
   "execution_count": null,
   "metadata": {
    "collapsed": true
   },
   "outputs": [],
   "source": [
    "class Solution:\n",
    "    def smallestDifference(self, a: List[int], b: List[int]) -> int:\n",
    "        b.sort()  # nlogn\n",
    "        ret = abs(a[0]-b[0])\n",
    "        for i in a: # nlogn\n",
    "            index = bisect.bisect(b, i)\n",
    "            if index == 0:\n",
    "                ret = min(ret, abs(i-b[0]))\n",
    "            elif index == len(b):\n",
    "                ret = min(ret, abs(i-b[-1]))\n",
    "            else:\n",
    "                ret = min(ret, abs(i-b[index]), abs(i-b[index-1]))   \n",
    "        return ret"
   ]
  },
  {
   "cell_type": "code",
   "execution_count": null,
   "metadata": {
    "collapsed": true
   },
   "outputs": [],
   "source": [
    "class Solution:\n",
    "    def smallestDifference(self, a: List[int], b: List[int]) -> int:\n",
    "        a.sort()\n",
    "        b.sort()  # nlogn\n",
    "        i = j = 0\n",
    "        ret = abs(a[0]-b[0])\n",
    "        while i < len(a) and j < len(b):\n",
    "            ret = min(ret, abs(a[i]-b[j]))\n",
    "            if a[i] < b[j]:\n",
    "                i += 1\n",
    "            else:\n",
    "                j += 1\n",
    "        return ret"
   ]
  },
  {
   "cell_type": "code",
   "execution_count": null,
   "metadata": {
    "collapsed": true
   },
   "outputs": [],
   "source": []
  },
  {
   "cell_type": "markdown",
   "metadata": {},
   "source": [
    "**56. 合并区间**<br>\n",
    "给出一个区间的集合，请合并所有重叠的区间。<br>\n",
    "示例 1:<br>\n",
    "输入: [[1,3],[2,6],[8,10],[15,18]]<br>\n",
    "输出: [[1,6],[8,10],[15,18]]<br>\n",
    "解释: 区间 [1,3] 和 [2,6] 重叠, 将它们合并为 [1,6].<br>\n",
    "示例 2:<br>\n",
    "输入: [[1,4],[4,5]]<br>\n",
    "输出: [[1,5]]<br>\n",
    "解释: 区间 [1,4] 和 [4,5] 可被视为重叠区间。<br>\n",
    "通过次数72,050提交次数174,657<br>\n",
    "\n",
    "**知识点：列表排序**<br>\n",
    "a = [[8,10],[1,3],[2,6],[15,18]]<br>\n",
    "a.sort(key=lambda x: x[0])  # 此处的x就是每一个区间元素，默认用首元素排序，此处可以不写<br>"
   ]
  },
  {
   "cell_type": "code",
   "execution_count": null,
   "metadata": {
    "collapsed": true
   },
   "outputs": [],
   "source": [
    "class Solution:\n",
    "    def merge(self, intervals: List[List[int]]) -> List[List[int]]:\n",
    "        if not intervals:\n",
    "            return []\n",
    "        intervals.sort()  # 按照首元素升序排列\n",
    "        merged = []\n",
    "        merged.append(intervals[0])\n",
    "        for lst in intervals[1:]:\n",
    "            if lst[0] > merged[-1][1]:\n",
    "                merged.append(lst)\n",
    "            else:\n",
    "                merged[-1][1] = max(lst[1], merged[-1][1])\n",
    "        return merged"
   ]
  },
  {
   "cell_type": "markdown",
   "metadata": {},
   "source": [
    "**1. 两数之和**<br>\n",
    "给定一个整数数组 nums 和一个目标值 target，请你在该数组中找出和为目标值的那 两个 整数，并返回他们的数组下标。<br>\n",
    "你可以假设每种输入只会对应一个答案。但是，数组中同一个元素不能使用两遍。 <br>\n",
    "示例:<br>\n",
    "给定 nums = [2, 7, 11, 15], target = 9<br>\n",
    "因为 nums[0] + nums[1] = 2 + 7 = 9<br>\n",
    "所以返回 [0, 1]<br>\n",
    "**方法1知识点**：列表排序，反求索引，列表重复值不同索引 NlogN<br>\n",
    "**方法2知识点**：利用哈希表记录元素和索引，然后直接查target-当前值是否在dict中。O(N)O(N)"
   ]
  },
  {
   "cell_type": "code",
   "execution_count": null,
   "metadata": {
    "collapsed": true
   },
   "outputs": [],
   "source": [
    "class Solution:\n",
    "    def twoSum(self, nums: List[int], target: int) -> List[int]:\n",
    "        lst = sorted(nums)\n",
    "        l, r = 0, len(lst)-1\n",
    "        \n",
    "        while l < r:\n",
    "            if lst[l] + lst[r] == target:\n",
    "                if lst[l] == lst[r]:\n",
    "                    res = [x for x in range(len(nums)) if nums[x] == lst[l]]  # 重复值索引\n",
    "                    return res[:2]\n",
    "                else:\n",
    "                    return [nums.index(lst[l]), nums.index(lst[r])]\n",
    "            elif lst[l] + lst[r] < target:\n",
    "                l += 1\n",
    "            else:\n",
    "                r -= 1"
   ]
  },
  {
   "cell_type": "code",
   "execution_count": null,
   "metadata": {
    "collapsed": true
   },
   "outputs": [],
   "source": [
    "class Solution:\n",
    "    def twoSum(self, nums: List[int], target: int) -> List[int]:\n",
    "        if not nums:\n",
    "            return []\n",
    "        back_dict = {}\n",
    "\n",
    "        for i in range(len(nums)):  # 记录数值和索引\n",
    "            if back_dict.get(nums[i], -1) == -1:\n",
    "                back_dict[nums[i]] = [i]\n",
    "            else:\n",
    "                back_dict[nums[i]].append(i)\n",
    "        # print(back_dict)\n",
    "        for num in nums:  # 可以归并到上面的循环中\n",
    "            if back_dict.get(target - num, -1) == -1:  # 差值不在字典中\n",
    "                continue\n",
    "            elif num != target-num:  # 差值在字典中，而且两个加数不等\n",
    "                print(num, 'here')\n",
    "                return [back_dict[num][0], back_dict[target-num][0]]\n",
    "            elif len(back_dict[num]) > 1:  # 两个加数相等\n",
    "                return [back_dict[num][0], back_dict[num][1]]"
   ]
  },
  {
   "cell_type": "code",
   "execution_count": null,
   "metadata": {
    "collapsed": true
   },
   "outputs": [],
   "source": []
  },
  {
   "cell_type": "markdown",
   "metadata": {},
   "source": [
    "**2. 两数相加**<br>\n",
    "给出两个 非空 的链表用来表示两个非负的整数。其中，它们各自的位数是按照 逆序 的方式存储的，并且它们的每个节点只能存储 一位 数字。<br>\n",
    "如果，我们将这两个数相加起来，则会返回一个新的链表来表示它们的和。<br>\n",
    "您可以假设除了数字 0 之外，这两个数都不会以 0 开头。<br>\n",
    "示例：<br>\n",
    "输入：(2 -> 4 -> 3) + (5 -> 6 -> 4)<br>\n",
    "输出：7 -> 0 -> 8<br>\n",
    "原因：342 + 465 = 807<br>\n",
    "**知识点：链表**。**亮点**：root的首元素实际上没有意义，只是为了开创，返回从next开始，好处是避免头部进位的讨论，简化代码。<br>\n",
    "**解惑**：链表赋值类似于list，数值是共享的,内存也是共享的。就是别名而已。"
   ]
  },
  {
   "cell_type": "code",
   "execution_count": null,
   "metadata": {
    "collapsed": true
   },
   "outputs": [],
   "source": [
    "# Definition for singly-linked list.\n",
    "# class ListNode:\n",
    "#     def __init__(self, x):\n",
    "#         self.val = x\n",
    "#         self.next = None\n",
    "\n",
    "class Solution:\n",
    "    def addTwoNumbers(self, l1: ListNode, l2: ListNode) -> ListNode:\n",
    "        carry = 0\n",
    "        root = ListNode(0)\n",
    "        temp = root\n",
    "\n",
    "        while l1 or l2:\n",
    "            a = b = 0\n",
    "            if l1:\n",
    "                a = l1.val\n",
    "                l1 = l1.next\n",
    "            if l2:\n",
    "                b = l2.val\n",
    "                l2 = l2.next\n",
    "            s = (a+b+carry) % 10\n",
    "            carry = (a+b+carry) // 10\n",
    "            node = ListNode(s)\n",
    "            temp.next = node\n",
    "            temp = node            \n",
    "            \n",
    "        if carry != 0:\n",
    "            node = ListNode(carry)\n",
    "            temp.next = node\n",
    "                    \n",
    "        return root.next"
   ]
  },
  {
   "cell_type": "code",
   "execution_count": null,
   "metadata": {
    "collapsed": true
   },
   "outputs": [],
   "source": []
  },
  {
   "cell_type": "markdown",
   "metadata": {},
   "source": [
    "**3. 无重复字符的最长子串**<br>\n",
    "给定一个字符串，请你找出其中不含有重复字符的 最长子串 的长度。<br>\n",
    "示例 1:<br>\n",
    "输入: \"abcabcbb\"<br>\n",
    "输出: 3 <br>\n",
    "解释: 因为无重复字符的最长子串是 \"abc\"，所以其长度为 3。<br>\n",
    "**思路1**：方法一采用了动规的方法：状态转移：如果当前字符不在前一字符所在的窗口，则max加一，否则在前一窗口找到当前char的索引截断。<br>\n",
    "**思路2**：方法一种需要判断char是否在某个子字符串中，造成复杂度增加，考虑用哈希表和一个ignore抵达索引来换取时间。<br>"
   ]
  },
  {
   "cell_type": "code",
   "execution_count": null,
   "metadata": {
    "collapsed": true
   },
   "outputs": [],
   "source": [
    "class Solution:\n",
    "    def lengthOfLongestSubstring(self, s: str) -> int:\n",
    "        if not s:\n",
    "            return 0\n",
    "        res = ret = 1\n",
    "        for i in range(1, len(s)):\n",
    "            if s[i] in s[i-res: i]:  # res当前子串长度，ret最长子串长度\n",
    "                res = res - (1+ s[i-res: i].index(s[i])) + 1                \n",
    "            else:\n",
    "                res += 1\n",
    "                ret = max(ret, res)\n",
    "        return ret"
   ]
  },
  {
   "cell_type": "code",
   "execution_count": null,
   "metadata": {
    "collapsed": true
   },
   "outputs": [],
   "source": [
    "class Solution(object):\n",
    "    def lengthOfLongestSubstring(self, s: str) -> int:\n",
    "        ignore_str_index_end = -1\n",
    "        dic = {}        \n",
    "        max_length = 0  \n",
    "\n",
    "        for i, c in enumerate(s):\n",
    "            # 索引都会大于等于0，新字符的索引为-1，否则为已经出现\n",
    "            # 第二个条件是因为ignore机制已经截断了重复char以及之前的char\n",
    "            if c in dic and dic[c] > ignore_str_index_end:\n",
    "                ignore_str_index_end = dic[c]  # 求出索引，无效推进\n",
    "                dic[c] = i\n",
    "            else:\n",
    "                dic[c] = i\n",
    "                max_length = max(i - ignore_str_index_end, max_length)  # 当前子串长度、最长长度\n",
    "        return max_length"
   ]
  },
  {
   "cell_type": "code",
   "execution_count": null,
   "metadata": {
    "collapsed": true
   },
   "outputs": [],
   "source": []
  },
  {
   "cell_type": "markdown",
   "metadata": {},
   "source": [
    "**7. 整数反转**\n",
    "给出一个 32 位的有符号整数，你需要将这个整数中每位上的数字进行反转。<br>\n",
    "示例 1:输入: 123 输出: 321<br>\n",
    "示例 2:输入: -123输出: -321<br>\n",
    "示例 3:输入: 120 输出: 21<br>\n",
    "注意:<br>\n",
    "假设我们的环境只能存储得下 32 位的有符号整数，则其数值范围为 [−231,  231 − 1]。请根据这个假设，如果反转后整数溢出那么就返回 0。<br>\n"
   ]
  },
  {
   "cell_type": "code",
   "execution_count": 2,
   "metadata": {},
   "outputs": [
    {
     "data": {
      "text/plain": [
       "3"
      ]
     },
     "execution_count": 2,
     "metadata": {},
     "output_type": "execute_result"
    }
   ],
   "source": [
    "class Solution:\n",
    "    def reverse(self, x: int) -> int:           \n",
    "        y, res = abs(x), 0\n",
    "        # 则其数值范围为 [−2^31,  2^31 − 1]\n",
    "        boundry = (1<<31) -1 if x>0 else 1<<31\n",
    "        while y != 0:\n",
    "            res = res*10 +y%10\n",
    "            if res > boundry :\n",
    "                return 0\n",
    "            y //= 10\n",
    "        return res if x >0 else -res"
   ]
  },
  {
   "cell_type": "markdown",
   "metadata": {},
   "source": [
    "**14. 最长公共前缀**<br>\n",
    "编写一个函数来查找字符串数组中的最长公共前缀。<br>\n",
    "如果不存在公共前缀，返回空字符串 \"\"。<br>\n",
    "示例 1:<br>\n",
    "输入: [\"flower\",\"flow\",\"flight\"]<br>输出: \"fl\"<br>\n",
    "示例 2:<br>\n",
    "输入: [\"dog\",\"racecar\",\"car\"]<br>输出: \"\"<br>\n",
    "解释: 输入不存在公共前缀。<br>\n",
    "思路1：逐个单词比较(推荐)<br>\n",
    "思路二：逐个index比较<br>"
   ]
  },
  {
   "cell_type": "code",
   "execution_count": null,
   "metadata": {
    "collapsed": true
   },
   "outputs": [],
   "source": [
    "class Solution:\n",
    "    def longestCommonPrefix(self, strs: List[str]) -> str:\n",
    "        if len(strs) == 0:\n",
    "            return ''\n",
    "        s = strs[0]  # 第一个单词\n",
    "        for i in range(1, len(strs)):\n",
    "            while strs[i].find(s) != 0 :  # 只有是公共前缀才会返回0，否则返回索引或者-1\n",
    "                s = s[:-1]\n",
    "            if len(s) == 0:\n",
    "                break\n",
    "        return s"
   ]
  },
  {
   "cell_type": "code",
   "execution_count": null,
   "metadata": {
    "collapsed": true
   },
   "outputs": [],
   "source": [
    "class Solution:\n",
    "    def longestCommonPrefix(self, strs: List[str]) -> str:\n",
    "        if not strs or not strs[0]:\n",
    "            return \"\"\n",
    "        strs.sort(key=len)\n",
    "        flag, i = False, 0\n",
    "        for i in range(0, len(strs[0])):  # 不同index\n",
    "            for j in range(1,len(strs)):  # 不同单词\n",
    "                if strs[j][i] != strs[0][i]:\n",
    "                    flag = True\n",
    "                    break\n",
    "            if flag:\n",
    "                i -= 1\n",
    "                break\n",
    "\n",
    "        return strs[0][:i+1]\n"
   ]
  },
  {
   "cell_type": "code",
   "execution_count": null,
   "metadata": {
    "collapsed": true
   },
   "outputs": [],
   "source": []
  },
  {
   "cell_type": "markdown",
   "metadata": {},
   "source": [
    "**15. 三数之和**<br>\n",
    "给你一个包含 n 个整数的数组 nums，判断 nums 中是否存在三个元素 a，b，c ，使得 a + b + c = 0 ？请你找出所有满足条件且不重复的三元组。<br>\n",
    "注意：答案中不可以包含重复的三元组。<br>\n",
    "\n",
    "示例：<br>\n",
    "给定数组 nums = [-1, 0, 1, 2, -1, -4]，<br>\n",
    "满足要求的三元组集合为：<br>\n",
    "[<br>\n",
    "  [-1, 0, 1],<br>\n",
    "  [-1, -1, 2]<br>\n",
    "]<br>\n",
    "\n",
    "算法流程：<br>\n",
    "1特判，对于数组长度 nn，如果数组为 nullnull 或者数组长度小于 33，返回 [][]。<br>\n",
    "2对数组进行排序。<br>\n",
    "3遍历排序后数组：<br>\n",
    "&#8195;&#8195;&#8195;若 nums[i]>0：因为已经排序好，所以后面不可能有三个数加和等于 0，直接返回结果。<br>\n",
    "&#8195;&#8195;&#8195;对于重复元素：跳过，避免出现重复解<br>\n",
    "&#8195;&#8195;&#8195;令左指针 L=i+1，右指针 R=n-1，当 L<R 时，执行循环：<br>\n",
    "&#8195;&#8195;&#8195;&#8195;&#8195;&#8195;当 nums[i]+nums[L]+nums[R]==0，循环，判断左界和右界是否和下一位置重复，<br>\n",
    "&#8195;&#8195;&#8195;&#8195;&#8195;&#8195;去除重复解。并同时将 L,R移到下一位置，寻找新的解<br>\n",
    "&#8195;&#8195;&#8195;&#8195;&#8195;&#8195;若和大于 0，说明 nums[R] 太大，R 左移<br>\n",
    "&#8195;&#8195;&#8195;&#8195;&#8195;&#8195;若和小于 0，说明 nums[L] 太小，L 右移<br>"
   ]
  },
  {
   "cell_type": "code",
   "execution_count": null,
   "metadata": {
    "collapsed": true
   },
   "outputs": [],
   "source": [
    "class Solution:  # 1000ms\n",
    "    def threeSum(self, nums: List[int]) -> List[List[int]]:\n",
    "        n = len(nums)\n",
    "        if (not nums or n < 3):\n",
    "            return []\n",
    "        nums.sort()\n",
    "        res = []\n",
    "        for i in range(n):\n",
    "            if (nums[i] > 0):\n",
    "                return res\n",
    "            if (i > 0 and nums[i] == nums[i - 1]):  # 重复元素构成的解在前面已经考虑过了\n",
    "                continue\n",
    "            L, R = i + 1, n - 1\n",
    "            while (L < R):\n",
    "                if (nums[i] + nums[L] + nums[R] == 0):\n",
    "                    res.append([nums[i], nums[L], nums[R]])\n",
    "                    L = bisect.bisect_right(nums, nums[L])  # 去除重复值\n",
    "                    R = bisect.bisect_left(nums, nums[R])\n",
    "                elif (nums[i] + nums[L] + nums[R] > 0):\n",
    "                    R = R - 1\n",
    "                else:\n",
    "                    L = L + 1\n",
    "        return res"
   ]
  },
  {
   "cell_type": "code",
   "execution_count": null,
   "metadata": {
    "collapsed": true
   },
   "outputs": [],
   "source": [
    "class Solution:  # 100ms\n",
    "    def threeSum(self, nums: List[int]) -> List[List[int]]:\n",
    "        ans = []\n",
    "        counts = {}\n",
    "        for i in nums:\n",
    "            counts[i] = counts.get(i, 0) + 1\n",
    "        nums = sorted(counts)  # key排序\n",
    "        for i, num in enumerate(nums):\n",
    "            if counts[num] > 1:\n",
    "                if num == 0:\n",
    "                    if counts[num] > 2:\n",
    "                        ans.append([0, 0, 0])\n",
    "                else:\n",
    "                    if -num * 2 in counts:\n",
    "                        ans.append([num, num, -2 * num])\n",
    "            if num < 0: # sum 才有可能为0\n",
    "                two_sum = -num\n",
    "                left = bisect.bisect_left(nums, (two_sum - nums[-1]), i + 1)\n",
    "                for i in nums[left: bisect.bisect_right(nums, (two_sum // 2), left)]:\n",
    "                    j = two_sum - i\n",
    "                    if j in counts and j != i:\n",
    "                        ans.append([num, i, j])\n",
    "        return ans"
   ]
  },
  {
   "cell_type": "code",
   "execution_count": 17,
   "metadata": {},
   "outputs": [
    {
     "data": {
      "text/plain": [
       "[1, 2]"
      ]
     },
     "execution_count": 17,
     "metadata": {},
     "output_type": "execute_result"
    }
   ],
   "source": [
    "a = {2:'ll', 1:'pp'}\n",
    "a = sorted(a)\n",
    "a"
   ]
  },
  {
   "cell_type": "code",
   "execution_count": 13,
   "metadata": {
    "collapsed": true
   },
   "outputs": [],
   "source": [
    "# 如果不用去重的话，可以用分治\n",
    "def fun(l, r, num, lst, target=0):\n",
    "    if num == 1:  # 边界条件\n",
    "        for k in range(l, r+1):  # 确保r可以取到\n",
    "            if lst[k] == target:\n",
    "                return [lst[k]]\n",
    "        return []\n",
    "    res = []\n",
    "    for i in range(l, r+1):\n",
    "        rest = fun(i+1, r, num-1, lst, target=target-lst[i])\n",
    "        for cans in rest:\n",
    "            res.append([cans] + [lst[i]]) if isinstance(cans, int) else res.append(cans + [lst[i]])\n",
    "    return res"
   ]
  },
  {
   "cell_type": "code",
   "execution_count": null,
   "metadata": {
    "collapsed": true
   },
   "outputs": [],
   "source": []
  },
  {
   "cell_type": "markdown",
   "metadata": {},
   "source": [
    "**17. 电话号码的字母组合**<br>\n",
    "给定一个仅包含数字 2-9 的字符串，返回所有它能表示的字母组合。<br>\n",
    "给出数字到字母的映射如下（与电话按键相同）。注意 1 不对应任何字母。<br>\n",
    "示例:<br>\n",
    "输入：\"23\"<br>\n",
    "输出：[\"ad\", \"ae\", \"af\", \"bd\", \"be\", \"bf\", \"cd\", \"ce\", \"cf\"].<br>\n",
    "说明:<br>\n",
    "尽管上面的答案是按字典序排列的，但是你可以任意选择答案输出的顺序。<br>\n",
    "思路：分治"
   ]
  },
  {
   "cell_type": "code",
   "execution_count": null,
   "metadata": {
    "collapsed": true
   },
   "outputs": [],
   "source": [
    "class Solution:\n",
    "    def letterCombinations(self, digits: str) -> List[str]:\n",
    "        if not digits:\n",
    "            return []\n",
    "\n",
    "        back_dic = {\n",
    "        '2':['a', 'b', 'c'],\n",
    "        '3':['d', 'e', 'f'],\n",
    "        '4':['g', 'h', 'i'],\n",
    "        '5':['j', 'k', 'l'],\n",
    "        '6':['m', 'n', 'o'],\n",
    "        '7':['p', 'q', 'r', 's'],\n",
    "        '8':['t', 'u', 'v'],\n",
    "        '9':['w', 'x', 'y', 'z'],\n",
    "        }\n",
    "\n",
    "        def combine(lst1, lst2):\n",
    "            res = []\n",
    "            for i in lst1:\n",
    "                for j in lst2:\n",
    "                    res.append(i+j)\n",
    "            return res\n",
    "\n",
    "        def for_ward(l=0):\n",
    "            if l == len(digits)-1:\n",
    "                return back_dic[digits[l]]\n",
    "            return combine(back_dic[digits[l]], for_ward(l+1))\n",
    "\n",
    "        return for_ward()\n",
    "        "
   ]
  },
  {
   "cell_type": "code",
   "execution_count": null,
   "metadata": {
    "collapsed": true
   },
   "outputs": [],
   "source": [
    "class Solution:\n",
    "    def letterCombinations(self, digits):\n",
    "        if not digits:\n",
    "            return []\n",
    "\n",
    "        back_dic = {\n",
    "                        '2':['a', 'b', 'c'],\n",
    "                        '3':['d', 'e', 'f'],\n",
    "                        '4':['g', 'h', 'i'],\n",
    "                        '5':['j', 'k', 'l'],\n",
    "                        '6':['m', 'n', 'o'],\n",
    "                        '7':['p', 'q', 'r', 's'],\n",
    "                        '8':['t', 'u', 'v'],\n",
    "                        '9':['w', 'x', 'y', 'z'],\n",
    "                    }\n",
    "        global res\n",
    "        res = back_dic[digits[0]]\n",
    "\n",
    "        def combine(lst1, lst2):\n",
    "            ret = []\n",
    "            for i in lst1:\n",
    "                for j in lst2:\n",
    "                    ret.append(i+j)\n",
    "            return ret\n",
    "\n",
    "        def for_ward(l=1):\n",
    "            if l == len(digits):\n",
    "                return\n",
    "            global res\n",
    "            res = combine(res, back_dic[digits[l]])\n",
    "            for_ward(l + 1)\n",
    "        for_ward()\n",
    "        return res"
   ]
  },
  {
   "cell_type": "code",
   "execution_count": null,
   "metadata": {
    "collapsed": true
   },
   "outputs": [],
   "source": []
  },
  {
   "cell_type": "markdown",
   "metadata": {},
   "source": [
    "**26. 删除排序数组中的重复项**<br>\n",
    "给定一个排序数组，你需要在 原地 删除重复出现的元素，使得每个元素只出现一次，返回移除后数组的新长度。<br>\n",
    "不要使用额外的数组空间，你必须在 原地 修改输入数组 并在使用 O(1) 额外空间的条件下完成。<br>\n",
    "示例 1:<br>\n",
    "给定数组 nums = [1,1,2], <br>\n",
    "函数应该返回新的长度 2, 并且原数组 nums 的前两个元素被修改为 1, 2。 <br>\n",
    "你不需要考虑数组中超出新长度后面的元素。<br>\n",
    "知识点：双指针"
   ]
  },
  {
   "cell_type": "code",
   "execution_count": 16,
   "metadata": {
    "collapsed": true
   },
   "outputs": [],
   "source": [
    "class Solution:\n",
    "    def removeDuplicates(self, nums) -> int:\n",
    "        l = len(nums)\n",
    "        if l < 2:\n",
    "            return l\n",
    "        now = left = count = 0\n",
    "        while now < l:\n",
    "            while now < l and nums[now]==nums[left]:\n",
    "                now += 1\n",
    "\n",
    "            if now < l:\n",
    "                nums[left + 1] = nums[now]\n",
    "                left += 1  # 每次移动之后两指针数据相同，保证now步进\n",
    "                count += 1\n",
    "        return count + 1"
   ]
  },
  {
   "cell_type": "code",
   "execution_count": null,
   "metadata": {
    "collapsed": true
   },
   "outputs": [],
   "source": []
  },
  {
   "cell_type": "markdown",
   "metadata": {},
   "source": [
    "**34. 在排序数组中查找元素的第一个和最后一个位置**<br>\n",
    "给定一个按照升序排列的整数数组 nums，和一个目标值 target。找出给定目标值在数组中的开始位置和结束位置。<br>\n",
    "你的算法时间复杂度必须是 O(log n) 级别。<br>\n",
    "如果数组中不存在目标值，返回 [-1, -1]。<br>\n",
    "示例 1:<br>\n",
    "输入: nums = [5,7,7,8,8,10], target = 8<br>\n",
    "输出: [3,4]<br>\n",
    "示例 2:<br>\n",
    "输入: nums = [5,7,7,8,8,10], target = 6<br>\n",
    "输出: [-1,-1]<br>\n",
    "**思路：二分**"
   ]
  },
  {
   "cell_type": "code",
   "execution_count": null,
   "metadata": {
    "collapsed": true
   },
   "outputs": [],
   "source": [
    "class Solution:\n",
    "    def searchRange(self, nums: List[int], target: int) -> List[int]:\n",
    "        if not nums:\n",
    "            return [-1, -1]\n",
    "        if len(nums) == 1:\n",
    "            return [0, 0] if nums[0] == target else [-1, -1]\n",
    "        l, r = 0, len(nums) - 1\n",
    "        while l < r:\n",
    "            mid = l + (r - l) // 2\n",
    "            if nums[mid] < target:\n",
    "                l = mid\n",
    "            elif nums[mid] > target:\n",
    "                r = mid\n",
    "            else:  # mid 就是目标值，这一块亦可以直接用bisect\n",
    "                while nums[l] != target:\n",
    "                    if nums[l] < nums[mid]:\n",
    "                        l += 1\n",
    "                    if nums[l] == nums[mid]:\n",
    "                        break\n",
    "\n",
    "                while nums[r] != target:\n",
    "                    if nums[r] > nums[mid]:\n",
    "                        r -= 1\n",
    "                    if nums[r] == nums[mid]:\n",
    "                        break\n",
    "                return [l, r]\n",
    "\n",
    "            if l + 1 == r or l == r :  # 当目标值小于target 会出现第二种情况,当然也可以合并到开始作为特例：【2,2】-1\n",
    "                if nums[r] == target:\n",
    "                    return [r, r]\n",
    "                if nums[l] == target:\n",
    "                    return  [l, l]\n",
    "                else:\n",
    "                    return [-1, -1]"
   ]
  },
  {
   "cell_type": "code",
   "execution_count": null,
   "metadata": {
    "collapsed": true
   },
   "outputs": [],
   "source": [
    "class Solution:  # 掉包方法\n",
    "    def searchRange(self, nums: List[int], target: int) -> List[int]:\n",
    "        if nums.count(target) > 0:\n",
    "            l = bisect.bisect_left(nums, target)\n",
    "            r = bisect.bisect_right(nums, target)\n",
    "            return [l, r-1] \n",
    "        else:\n",
    "            return [-1, -1]"
   ]
  },
  {
   "cell_type": "code",
   "execution_count": null,
   "metadata": {
    "collapsed": true
   },
   "outputs": [],
   "source": []
  },
  {
   "cell_type": "markdown",
   "metadata": {},
   "source": [
    "**179. 最大数**\n",
    "给定一组非负整数，重新排列它们的顺序使之组成一个最大的整数。<br>-\n",
    "示例 1:<br>\n",
    "输入: [10,2]<br>\n",
    "输出: 210<br>\n",
    "示例 2:<br>\n",
    "输入: [3,30,34,5,9]<br>\n",
    "输出: 9534330<br>\n",
    "说明: 输出结果可能非常大，所以你需要返回一个字符串而不是整数。<br>\n",
    "思路：转化为字符串后，对字符串排序，排序时间复杂度nlgn"
   ]
  },
  {
   "cell_type": "code",
   "execution_count": null,
   "metadata": {
    "collapsed": true
   },
   "outputs": [],
   "source": [
    "class LargerNumKey(str):  # 不能用lambda代替，因为\n",
    "    def __lt__(x, y):\n",
    "        return x+y > y+x\n",
    "        \n",
    "class Solution:\n",
    "    def largestNumber(self, nums):\n",
    "        largest_num = ''.join(sorted(map(str, nums), key=LargerNumKey))\n",
    "        return '0' if largest_num[0] == '0' else largest_num"
   ]
  },
  {
   "cell_type": "markdown",
   "metadata": {},
   "source": [
    "**162. 寻找峰值**<br>\n",
    "峰值元素是指其值大于左右相邻值的元素。<br>\n",
    "给定一个输入数组 nums，其中 nums[i] ≠ nums[i+1]，找到峰值元素并返回其索引。<br>\n",
    "数组可能包含多个峰值，在这种情况下，返回任何一个峰值所在位置即可。<br>\n",
    "**你可以假设 nums[-1] = nums[n] = -∞。**<br>\n",
    "示例 1:<br>\n",
    "输入: nums = [1,0,3,1]<br>\n",
    "输出: 0<br>\n",
    "解释: 1 是峰值元素，你的函数应该返回其索引 0。<br>\n",
    "示例 2:<br>\n",
    "输入: nums = [1,2,1,3,5,6,4]<br>\n",
    "输出: 1 或 5 <br>\n",
    "解释: 你的函数可以返回索引 1，其峰值元素为 2；<br>\n",
    "     或者返回索引 5， 其峰值元素为 6。<br>\n",
    "说明:<br>\n",
    "\n",
    "你的解法应该是 O(logN) 时间复杂度的。<br>\n",
    "思路：根据复杂度，可以确定用二分法，机制可以类比斜率和极值点。"
   ]
  },
  {
   "cell_type": "code",
   "execution_count": 3,
   "metadata": {},
   "outputs": [
    {
     "data": {
      "text/plain": [
       "0.0"
      ]
     },
     "execution_count": 3,
     "metadata": {},
     "output_type": "execute_result"
    }
   ],
   "source": [
    "class Solution:\n",
    "    def findPeakElement(self, nums) -> int:\n",
    "        l, r = 0, len(nums)-1 \n",
    "        while l < r:\n",
    "            mid = l + (r-l)//2\n",
    "            if nums[mid] > nums[mid+1]:\n",
    "                r = mid\n",
    "            else:\n",
    "                l = mid + 1  # 很好\n",
    "        return l"
   ]
  },
  {
   "cell_type": "code",
   "execution_count": null,
   "metadata": {
    "collapsed": true
   },
   "outputs": [],
   "source": []
  },
  {
   "cell_type": "markdown",
   "metadata": {},
   "source": [
    "**200. 岛屿数量**<br>\n",
    "给你一个由 '1'（陆地）和 '0'（水）组成的的二维网格，请你计算网格中岛屿的数量。岛屿总是被水包围，<br>\n",
    "并且每座岛屿只能由水平方向和/或竖直方向上相邻的陆地连接形成。此外，你可以假设该网格的四条边均被水包围。<br>\n",
    "可以把岛屿看做集中连片的1。示例 1:<br>\n",
    "输入:<br>\n",
    "1 1 1 1 0<br>\n",
    "1 1 0 1 0<br>\n",
    "1 1 0 0 0<br>\n",
    "0 0 0 0 0<br>\n",
    "输出: 1<br>"
   ]
  },
  {
   "cell_type": "code",
   "execution_count": null,
   "metadata": {
    "collapsed": true
   },
   "outputs": [],
   "source": [
    "# 方法1深度优先搜索\n",
    "class Solution:\n",
    "    def dfs(self, grid, r, c):\n",
    "        grid[r][c] = 0  # 记忆搜索将格点标记位0\n",
    "        nr, nc = len(grid), len(grid[0])\n",
    "        for x, y in [(r - 1, c), (r + 1, c), (r, c - 1), (r, c + 1)]:  # 上下左右\n",
    "            if 0 <= x < nr and 0 <= y < nc and grid[x][y] == \"1\":\n",
    "                self.dfs(grid, x, y)\n",
    "\n",
    "    def numIslands(self, grid: List[List[str]]) -> int:\n",
    "        nr = len(grid)\n",
    "        if nr == 0:\n",
    "            return 0\n",
    "        nc = len(grid[0])\n",
    "\n",
    "        num_islands = 0\n",
    "        for r in range(nr):\n",
    "            for c in range(nc):\n",
    "                if grid[r][c] == \"1\":  # 只要出现了1，必定对应一个岛屿\n",
    "                    num_islands += 1\n",
    "                    self.dfs(grid, r, c)\n",
    "        \n",
    "        return num_islands"
   ]
  },
  {
   "cell_type": "code",
   "execution_count": null,
   "metadata": {
    "collapsed": true
   },
   "outputs": [],
   "source": [
    "# 方法2：广度优先搜索 用队列迭代替代递归\n",
    "class Solution:\n",
    "    def numIslands(self, grid: List[List[str]]) -> int:\n",
    "        nr = len(grid)\n",
    "        if nr == 0:\n",
    "            return 0\n",
    "        nc = len(grid[0])\n",
    "\n",
    "        num_islands = 0\n",
    "        for r in range(nr):\n",
    "            for c in range(nc):\n",
    "                if grid[r][c] == \"1\":\n",
    "                    num_islands += 1\n",
    "                    grid[r][c] = \"0\"\n",
    "                    neighbors = collections.deque([(r, c)])\n",
    "                    while neighbors:\n",
    "                        row, col = neighbors.popleft()\n",
    "                        for x, y in [(row - 1, col), (row + 1, col), (row, col - 1), (row, col + 1)]:\n",
    "                            if 0 <= x < nr and 0 <= y < nc and grid[x][y] == \"1\":\n",
    "                                neighbors.append((x, y))\n",
    "                                grid[x][y] = \"0\"\n",
    "        \n",
    "        return num_islands"
   ]
  },
  {
   "cell_type": "code",
   "execution_count": null,
   "metadata": {
    "collapsed": true
   },
   "outputs": [],
   "source": [
    "# 方法3：并查集https://zhuanlan.zhihu.com/p/93647900\n",
    "class UnionFind:\n",
    "    def __init__(self, grid):\n",
    "        m, n = len(grid), len(grid[0])\n",
    "        self.count = 0\n",
    "        self.parent = [-1] * (m * n)\n",
    "        self.rank = [0] * (m * n)\n",
    "        for i in range(m):\n",
    "            for j in range(n):\n",
    "                if grid[i][j] == \"1\":\n",
    "                    self.parent[i * n + j] = i * n + j\n",
    "                    self.count += 1\n",
    "    \n",
    "    def find(self, i):\n",
    "        if self.parent[i] != i:\n",
    "            self.parent[i] = self.find(self.parent[i])\n",
    "        return self.parent[i]\n",
    "    \n",
    "    def union(self, x, y):\n",
    "        rootx = self.find(x)\n",
    "        rooty = self.find(y)\n",
    "        if rootx != rooty:\n",
    "            if self.rank[rootx] < self.rank[rooty]:\n",
    "                rootx, rooty = rooty, rootx\n",
    "            self.parent[rooty] = rootx\n",
    "            if self.rank[rootx] == self.rank[rooty]:\n",
    "                self.rank[rootx] += 1\n",
    "            self.count -= 1  # 合并一次，岛屿数目减1\n",
    "    \n",
    "    def getCount(self):\n",
    "        return self.count\n",
    "\n",
    "class Solution:\n",
    "    def numIslands(self, grid: List[List[str]]) -> int:\n",
    "        nr = len(grid)\n",
    "        if nr == 0:\n",
    "            return 0\n",
    "        nc = len(grid[0])\n",
    "\n",
    "        uf = UnionFind(grid)  # 初始化\n",
    "        num_islands = 0\n",
    "        for r in range(nr):\n",
    "            for c in range(nc):\n",
    "                if grid[r][c] == \"1\":\n",
    "                    grid[r][c] = \"0\"\n",
    "                    for x, y in [(r - 1, c), (r + 1, c), (r, c - 1), (r, c + 1)]:\n",
    "                        if 0 <= x < nr and 0 <= y < nc and grid[x][y] == \"1\":\n",
    "                            uf.union(r * nc + c, x * nc + y)  # 合并算法\n",
    "        \n",
    "        return uf.getCount()"
   ]
  },
  {
   "cell_type": "code",
   "execution_count": null,
   "metadata": {
    "collapsed": true
   },
   "outputs": [],
   "source": []
  },
  {
   "cell_type": "markdown",
   "metadata": {},
   "source": [
    "**395. 至少有K个重复字符的最长子串**<br>\n",
    "题目：找到给定字符串（由小写字符组成）中的最长子串 T ， 要求 T 中的每一字符出现次数都不少于 k 。输出 T 的长度。<br>\n",
    "示例 2:<br>\n",
    "输入:s = \"ababbc\", k = 2  输出:5<br>\n",
    "最长子串为 \"ababb\" ，其中 'a' 重复了 2 次， 'b' 重复了 3 次。<br>\n",
    "思路1：分治<br>"
   ]
  },
  {
   "cell_type": "code",
   "execution_count": null,
   "metadata": {
    "collapsed": true
   },
   "outputs": [],
   "source": [
    "class Solution:\n",
    "    def longestSubstring(self, s, k):\n",
    "        for c in set(s):\n",
    "            if s.count(c) < k:\n",
    "                # 满足分割条件，进行分割\n",
    "                return max(self.longestSubstring(t, k) for t in s.split(c))\n",
    "        # 如果每个字符出现的次数均不小于k，则返回当前字符串的长度\n",
    "        return len(s)"
   ]
  },
  {
   "cell_type": "code",
   "execution_count": null,
   "metadata": {
    "collapsed": true
   },
   "outputs": [],
   "source": []
  },
  {
   "cell_type": "markdown",
   "metadata": {},
   "source": [
    "**287. 寻找重复数**\n",
    "给定一个包含 n + 1 个整数的数组 nums，其数字都在 1 到 n 之间（包括 1 和 n），可知至少存在一个重复的整数。假设只有一个重复的整数，找出这个重复的数。<br>\n",
    "示例 2:输入: [3,1,3,4,2]输出: 3<br>\n",
    "说明：<br>\n",
    "不能更改原数组（假设数组是只读的）。<br>\n",
    "只能使用额外的 O(1) 的空间。<br>\n",
    "时间复杂度小于 O(n2) 。<br>\n",
    "数组中只有一个重复的数字，但它可能不止重复出现一次。<br>\n",
    "思路1：快排<br>\n",
    "时间复杂度：O(nlgn)。排序调用在 Python 和 Java 中花费 {O}(nlgn)O(nlgn) 时间，因此它支配后续的线性扫描。<br>\n",
    "空间复杂度：O(1) or O(n)，在这里，我们对 nums 进行排序，因此内存大小是恒定的。如果我们不能修改输入数组，那么我们必须为 nums 的副本分配线性空间，并对其进行排序。<br>\n",
    "\n",
    "思路2：快慢指针-循环检测<br>\n",
    "快慢指针法, 兔子与乌龟同时在头节点出发, 兔子每次跑两个节点, 乌龟每次跑一个节点, 如果兔子能够追赶到乌龟, 则链表是有环的<br>\n",
    "还是前面的龟兔赛跑, 当兔子追到乌龟的时候, 假设有另外一只乌龟从头节点开始往前爬, 每次也只爬一个节点, 那么两只乌龟会在入环的节点相遇<br>\n",
    "结合141 142 题目:https://leetcode-cn.com/problems/find-the-duplicate-number/solution/qian-duan-ling-hun-hua-shi-tu-jie-kuai-man-zhi-z-3/<br>"
   ]
  },
  {
   "cell_type": "code",
   "execution_count": 56,
   "metadata": {
    "collapsed": true
   },
   "outputs": [],
   "source": [
    "class Solution:\n",
    "    def findDuplicate(self, nums: List[int]) -> int:\n",
    "        nums = sorted(nums)\n",
    "        for i in range(len(nums)-1):\n",
    "            if nums[i] == nums[i+1]:\n",
    "                return nums[i]"
   ]
  },
  {
   "cell_type": "code",
   "execution_count": 58,
   "metadata": {
    "collapsed": true
   },
   "outputs": [],
   "source": [
    "def findDuplicate(nums) -> int:\n",
    "    slow, fast = 0, 0\n",
    "    # 慢指针走一步，快指针走两步\n",
    "    slow, fast = nums[slow], nums[nums[fast]]\n",
    "    while slow != fast:\n",
    "        slow, fast = nums[slow], nums[nums[fast]]\n",
    "        \n",
    "    before, after = 0, slow\n",
    "    while before != after:\n",
    "        before, after = nums[before], nums[after]\n",
    "        \n",
    "    return before"
   ]
  },
  {
   "cell_type": "code",
   "execution_count": null,
   "metadata": {
    "collapsed": true
   },
   "outputs": [],
   "source": []
  },
  {
   "cell_type": "markdown",
   "metadata": {},
   "source": [
    "**227. 基本计算器 II**<br>\n",
    "实现一个基本的计算器来计算一个简单的字符串表达式的值。<br>\n",
    "\n",
    "字符串表达式仅包含非负整数，+， - ，*，/ 四种运算符和空格  。 整数除法仅保留整数部分。<br>\n",
    "\n",
    "示例 :<br>\n",
    "输入: \" 3+5 / 2 \"<br>\n",
    "输出: 5<br>\n",
    "说明：请不要使用内置的库函数 eval。<br>\n",
    "思路：stack<br>\n",
    "Note：//做除法的时候，对于float结果取一个较小的数，对于负数-3//2结果为-2值得注意。<br>"
   ]
  },
  {
   "cell_type": "code",
   "execution_count": null,
   "metadata": {},
   "outputs": [],
   "source": [
    "def calculate(s):\n",
    "    \"\"\"思路：求每个符号对应的局部结果（加减直接入栈，乘除先弹出计算后再压入）\"\"\"\n",
    "    \"\"\"思路：遇到新的符号代表 数据已经准备好 计算前一局部\"\"\"\n",
    "    part = []\n",
    "    sign, num = '+', 0\n",
    "    for i in range(len(s)):\n",
    "        char = s[i]\n",
    "        if char.isdigit():\n",
    "            num = num * 10 + int(char)\n",
    "        if char in '+-*/' or i == len(s) - 1:\n",
    "            if sign == '+':\n",
    "                part.append(num)\n",
    "            elif sign == '-':\n",
    "                part.append(-num)\n",
    "            elif sign == '*':\n",
    "                part.append(part.pop() * num)\n",
    "            elif sign == '/':\n",
    "                part.append(int(part.pop()/num))\n",
    "            num = 0\n",
    "            sign = char\n",
    "\n",
    "    return sum(part)"
   ]
  },
  {
   "cell_type": "code",
   "execution_count": null,
   "metadata": {},
   "outputs": [],
   "source": []
  },
  {
   "cell_type": "markdown",
   "metadata": {},
   "source": [
    "**238. 除自身以外数组的乘积**<br>\n",
    "给你一个长度为 n 的整数数组 nums，其中 n > 1，返回输出数组 output ，其中 output[i] 等于 nums 中除 nums[i] 之外其余各元素的乘积。<br>\n",
    "示例:输入: [1,2,3,4]输出: [24,12,8,6]<br>\n",
    "思路：动规，求元素左边乘积和元素右边乘积，然后nums[i] = l[i-1] * r[i+1]"
   ]
  },
  {
   "cell_type": "code",
   "execution_count": null,
   "metadata": {},
   "outputs": [],
   "source": [
    "class Solution:\n",
    "    def productExceptSelf(self, nums: List[int]) -> List[int]:\n",
    "        l = [1] * len(nums)\n",
    "        r = [1] * len(nums)\n",
    "        for index in range(1, len(nums)):\n",
    "            l[index] = l[index-1] * nums[index -1]\n",
    "        for index in range(len(nums)-2, -1, -1):\n",
    "            r[index] = r[index+1] * nums[index + 1]\n",
    "        for index in range(len(nums)):\n",
    "            nums[index] = l[index] * r[index]\n",
    "        return nums\n",
    "            "
   ]
  },
  {
   "cell_type": "code",
   "execution_count": null,
   "metadata": {},
   "outputs": [],
   "source": []
  },
  {
   "cell_type": "markdown",
   "metadata": {},
   "source": [
    "**104. 二叉树的最大深度**<br>\n",
    "给定一个二叉树，找出其**最大深度**。<br>\n",
    "示例：<br>\n",
    "给定二叉树 [3,9,20,null,null,15,7]，<br>\n",
    "返回它的最大深度 3 。<br>\n",
    "思路：子节点的深度比父节点 + 1"
   ]
  },
  {
   "cell_type": "code",
   "execution_count": null,
   "metadata": {},
   "outputs": [],
   "source": [
    "class Solution:\n",
    "    def maxDepth(self, root: TreeNode) -> int:\n",
    "        que, dep = [], 0\n",
    "        que.append((1, root))\n",
    "        while que:\n",
    "            curr_dep, node = que.pop()         \n",
    "            if node:\n",
    "                dep = max(dep, curr_dep)  \n",
    "                que.append((curr_dep+1, node.left)) if node.left else ''\n",
    "                que.append((curr_dep+1, node.right)) if node.right else ''\n",
    "        return dep"
   ]
  },
  {
   "cell_type": "code",
   "execution_count": null,
   "metadata": {},
   "outputs": [],
   "source": []
  },
  {
   "cell_type": "markdown",
   "metadata": {},
   "source": [
    "**125. 验证回文串**<br>\n",
    "给定一个字符串，验证它是否是回文串，只考虑字母和数字字符，可以忽略字母的大小写。<br>\n",
    "说明：本题中，我们将空字符串定义为有效的回文串。<br>\n",
    "示例 1:<br>\n",
    "输入: \"A man, a plan, a canal: Panama\"<br>\n",
    "输出: true<br>\n",
    "思路：双指针"
   ]
  },
  {
   "cell_type": "code",
   "execution_count": null,
   "metadata": {},
   "outputs": [],
   "source": [
    "class Solution:\n",
    "    def isPalindrome(self, s: str) -> bool:\n",
    "        i, j = 0, len(s)-1\n",
    "        while i < j:\n",
    "            while i < j and not s[i].isalnum():\n",
    "                i += 1\n",
    "            while i < j and not s[j].isalnum():\n",
    "                j -= 1\n",
    "            if s[i].lower() != s[j].lower():\n",
    "                return False\n",
    "            i += 1\n",
    "            j -= 1        \n",
    "        return True"
   ]
  },
  {
   "cell_type": "code",
   "execution_count": null,
   "metadata": {},
   "outputs": [],
   "source": []
  },
  {
   "cell_type": "code",
   "execution_count": 35,
   "metadata": {},
   "outputs": [],
   "source": [
    "from collections import deque\n",
    "class Solution:\n",
    "    def ladderLength(self, beginWord: str, endWord: str, wordList) -> int:\n",
    "        def word2List(s):\n",
    "            res = []\n",
    "            for i in range(len(s)):\n",
    "                index = ord('a')\n",
    "                while index < ord('z') + 1: \n",
    "                    if index != ord(s[i]):\n",
    "                        temp = s[:i] + chr(index)+s[i+1:]\n",
    "                        if temp in word_dic:\n",
    "                            res.append(temp)\n",
    "                    index += 1\n",
    "            return res\n",
    "        word_dic = {}\n",
    "        already = {}\n",
    "        for word in wordList:\n",
    "            word_dic[word] = 1\n",
    "        \n",
    "        que = deque()\n",
    "        que.append((1, beginWord))\n",
    "        while que:\n",
    "            order, word = que.popleft()\n",
    "            if word == endWord:\n",
    "                return order\n",
    "            else:\n",
    "                for w in word2List(word):\n",
    "                    if w not in already:\n",
    "                        que.append((order+1, w))\n",
    "                        already[w] = 1\n",
    "        return 0\n",
    "\n"
   ]
  },
  {
   "cell_type": "code",
   "execution_count": null,
   "metadata": {},
   "outputs": [],
   "source": [
    "from collections import defaultdict\n",
    "class Solution(object):\n",
    "    def ladderLength(self, beginWord, endWord, wordList):\n",
    "\n",
    "        if endWord not in wordList or not endWord or not beginWord or not wordList:\n",
    "            return 0\n",
    "\n",
    "        # Since all words are of same length.\n",
    "        L = len(beginWord)\n",
    "\n",
    "        all_combo_dict = defaultdict(list)  # 键为通配符，值为具体的词---邻接表\n",
    "        for word in wordList:\n",
    "            for i in range(L):\n",
    "                all_combo_dict[word[:i] + \"*\" + word[i+1:]].append(word)\n",
    "\n",
    "        # Queue for BFS\n",
    "        queue = [(beginWord, 1)]\n",
    "        # Visited to make sure we don't repeat processing same word.\n",
    "        visited = {beginWord: True}\n",
    "        while queue:\n",
    "            current_word, level = queue.pop(0)\n",
    "            for i in range(L):\n",
    "                # Intermediate words for current word\n",
    "                intermediate_word = current_word[:i] + \"*\" + current_word[i+1:]\n",
    "\n",
    "                # Next states are all the words which share the same intermediate state.\n",
    "                for word in all_combo_dict[intermediate_word]:\n",
    "                    # If at any point if we find what we are looking for\n",
    "                    # i.e. the end word - we can return with the answer.\n",
    "                    if word == endWord:\n",
    "                        return level + 1\n",
    "                    # Otherwise, add it to the BFS Queue. Also mark it visited\n",
    "                    if word not in visited:\n",
    "                        visited[word] = True\n",
    "                        queue.append((word, level + 1))\n",
    "                all_combo_dict[intermediate_word] = []  # 这一步很精髓，访问过之后，不需要再次访问\n",
    "        return 0\n"
   ]
  },
  {
   "cell_type": "code",
   "execution_count": 46,
   "metadata": {},
   "outputs": [
    {
     "data": {
      "text/plain": [
       "1"
      ]
     },
     "execution_count": 46,
     "metadata": {},
     "output_type": "execute_result"
    }
   ],
   "source": [
    "[1,2].count(2)"
   ]
  },
  {
   "cell_type": "code",
   "execution_count": null,
   "metadata": {},
   "outputs": [],
   "source": []
  },
  {
   "cell_type": "markdown",
   "metadata": {},
   "source": [
    "**152. 乘积最大子数组**<br>\n",
    "给你一个整数数组 nums ，请你找出数组中乘积最大的连续子数组（该子数组中至少包含一个数字），并返回该子数组所对应的乘积。<br>\n",
    "示例 1:<br>\n",
    "输入: [2,3,-2,4]<br>\n",
    "输出: 6<br>\n",
    "解释: 子数组 [2,3] 有最大乘积 6。<br>\n",
    "思路1：分治:最大值出现在左半区或者右半区或者跨越两边，对于跨越两边需要基于mid向两边扩展<br>\n",
    "思路2：动规：imax和imin实时更新，返回值在记忆和imax中取最大值，遇到负数的时候需要把dp中的最值交换<br>"
   ]
  },
  {
   "cell_type": "code",
   "execution_count": null,
   "metadata": {},
   "outputs": [],
   "source": [
    "def cross_mul(nums, l, r, mid):\n",
    "    if nums[mid] == 0:\n",
    "        return 0\n",
    "    curr_l = curr_r = 1\n",
    "    max_l = max_r = float('-inf')\n",
    "    min_l = min_r = float('inf')\n",
    "    for i in range(mid, l-1, -1):\n",
    "        curr_l = curr_l * nums[i]\n",
    "        max_l = max(max_l, curr_l)\n",
    "        min_l = min(min_l, curr_l)\n",
    "    for j in range(mid, r+1, 1):\n",
    "        curr_r = curr_r * nums[j]\n",
    "        max_r = max(max_r, curr_r)\n",
    "        min_r = min(min_r, curr_r)\n",
    "    return max(min_l * min_r//nums[mid], min_l * max_r//nums[mid],\n",
    "               max_l * max_r//nums[mid], max_l * min_r//nums[mid])\n",
    "\n",
    "def maxPro(nums, l, r) -> int:\n",
    "    mid = l + (r-l)//2\n",
    "    if l == r:\n",
    "        return nums[l]\n",
    "    return max(maxPro(nums, l, mid), maxPro(nums, mid+1, r), cross_mul(nums, l, r, mid))\n",
    "\n",
    "class Solution:\n",
    "    def maxProduct(self, nums: List[int]) -> int:\n",
    "        return maxPro(nums, 0, len(nums)-1)"
   ]
  },
  {
   "cell_type": "markdown",
   "metadata": {},
   "source": [
    "例如[1, -2, 3......],到位置3的时候，最大值为3，最小值为-6，<br>\n",
    "如果后续的所有数值乘以如果为正，那么3构成返回值的基础，<br>\n",
    "如果后续结果乘积为负值，那么-6构成返回值的基础。<br>"
   ]
  },
  {
   "cell_type": "code",
   "execution_count": null,
   "metadata": {},
   "outputs": [],
   "source": [
    "class Solution\n",
    "    def maxProduct(self, nums: List[int]) -> int:\n",
    "        res, imax, imin = float('-inf'), 1, 1\n",
    "        for i in range(len(nums)):\n",
    "            if nums[i] < 0:\n",
    "                tmp = imax\n",
    "                imax = imin\n",
    "                imin = tmp\n",
    "            imax = max(imax*nums[i], nums[i])  # 到当前位置的最大子串积\n",
    "            imin = min(imin*nums[i], nums[i])  # 到当前位置的最小子串积          \n",
    "            res = max(res, imax);\n",
    "\n",
    "        return res"
   ]
  },
  {
   "cell_type": "code",
   "execution_count": null,
   "metadata": {},
   "outputs": [],
   "source": []
  },
  {
   "cell_type": "markdown",
   "metadata": {},
   "source": [
    "**面试题 04.04. 检查平衡性**<br>\n",
    "实现一个函数，检查二叉树是否平衡。在这个问题中，平衡树的定义如下：任意一个节点，其两棵子树的高度差不超过 1。<br>\n",
    "\n",
    "\n",
    "示例 1:<br>\n",
    "给定二叉树 [3,9,20,null,null,15,7]<br>\n",
    "    3\n",
    "   / \\\n",
    "  9  20\n",
    "    /  \\\n",
    "   15   7\n",
    "返回 true 。<br>\n",
    "思路：dfs"
   ]
  },
  {
   "cell_type": "code",
   "execution_count": null,
   "metadata": {},
   "outputs": [],
   "source": [
    "class Solution:\n",
    "    def isBalanced(self, root: TreeNode) -> bool:\n",
    "        def cal_height(root):\n",
    "            if root is None:\n",
    "                return 0\n",
    "            left = cal_height(root.left)\n",
    "            right = cal_height(root.right)\n",
    "            if abs(left - right) > 1:\n",
    "                return float('inf')\n",
    "            else:\n",
    "                return max(left, right) + 1\n",
    "\n",
    "        return False if isinstance(cal_height(root), float) else True"
   ]
  },
  {
   "cell_type": "code",
   "execution_count": null,
   "metadata": {},
   "outputs": [],
   "source": []
  },
  {
   "cell_type": "markdown",
   "metadata": {},
   "source": [
    "**面试题 04.05. 合法二叉搜索树**<br>\n",
    "实现一个函数，检查一棵二叉树是否为二叉搜索树。<br>\n",
    "示例 1:<br>\n",
    "输入:<br>\n",
    "    2\n",
    "   / \\\n",
    "  1   3\n",
    "输出: true<br>\n",
    "思路1：中序遍历<br>"
   ]
  },
  {
   "cell_type": "code",
   "execution_count": null,
   "metadata": {},
   "outputs": [],
   "source": [
    "class Solution:\n",
    "    def isValidBST(self, root: TreeNode) -> bool:\n",
    "        stack = []\n",
    "        res = []\n",
    "        flag = True\n",
    "        while flag and (stack or root):\n",
    "            while root is not None:\n",
    "                stack.append(root)\n",
    "                root = root.left\n",
    "            node = stack.pop()\n",
    "            if not res or res[-1] < node.val:\n",
    "                res.append(node.val)\n",
    "            else:\n",
    "                flag = False\n",
    "                break\n",
    "            root = node.right\n",
    "        return flag"
   ]
  },
  {
   "cell_type": "code",
   "execution_count": null,
   "metadata": {},
   "outputs": [],
   "source": []
  },
  {
   "cell_type": "markdown",
   "metadata": {},
   "source": [
    "**面试题 04.06. 后继者**<br>\n",
    "设计一个算法，找出二叉搜索树中指定节点的“下一个”节点（也即中序后继）。<br>\n",
    "如果指定节点没有对应的“下一个”节点，则返回null。<br>\n",
    "示例 1:<br>\n",
    "输入: root = [2,1,3], p = 1<br>\n",
    "  2\n",
    " / \\\n",
    "1   3\n",
    "输出: 2<br>"
   ]
  },
  {
   "cell_type": "code",
   "execution_count": null,
   "metadata": {},
   "outputs": [],
   "source": [
    "class Solution:\n",
    "    def inorderSuccessor(self, root: TreeNode, p: TreeNode) -> TreeNode:\n",
    "        # 写一个中序遍历\n",
    "        st = []\n",
    "        flag = False\n",
    "        while root or st:\n",
    "            while root:\n",
    "                st.append(root)\n",
    "                root = root.left\n",
    "            node = st.pop()  \n",
    "\n",
    "            if flag:\n",
    "                flag = False\n",
    "                return node\n",
    "            if node.val == p.val:\n",
    "                flag = True\n",
    "\n",
    "            root = node.right\n",
    "            \n",
    "        if flag:\n",
    "            return TreeNode('null')"
   ]
  },
  {
   "cell_type": "code",
   "execution_count": null,
   "metadata": {},
   "outputs": [],
   "source": []
  },
  {
   "cell_type": "markdown",
   "metadata": {},
   "source": [
    "使用前序遍历的第一个元素创建根节点。\n",
    "创建一个栈，将根节点压入栈内。\n",
    "初始化中序遍历下标为 0。\n",
    "遍历前序遍历的每个元素，判断其上一个元素（即栈顶元素）是否等于中序遍历下标指向的元素。\n",
    "若上一个元素不等于中序遍历下标指向的元素，则**将当前元素作为其上一个元素的左子节点，并将当前元素压入栈内**。\n",
    "若上一个元素等于中序遍历下标指向的元素，则从栈内弹出一个元素，同时令中序遍历下标指向下一个元素，之后继续判断栈顶元素是否等于中序遍历下标指向的元素，若相等则重复该操作，直至栈为空或者元素不相等。然后令当前元素为最后一个相等元素的右节点。\n",
    "遍历结束，返回根节点。\n",
    "\n",
    "作者：LeetCode-Solution\n",
    "链接：https://leetcode-cn.com/problems/zhong-jian-er-cha-shu-lcof/solution/mian-shi-ti-07-zhong-jian-er-cha-shu-by-leetcode-s/\n",
    "来源：力扣（LeetCode）"
   ]
  },
  {
   "cell_type": "code",
   "execution_count": null,
   "metadata": {},
   "outputs": [],
   "source": [
    "class Solution:\n",
    "    def buildTree(self, preorder: List[int], inorder: List[int]) -> TreeNode:\n",
    "        if len(inorder) == 0:\n",
    "            return None\n",
    "        \n",
    "        # 根节点\n",
    "        root = TreeNode(preorder[0])\n",
    "        # 获取根节点在 inorder 中的索引\n",
    "        idx = inorder.index(preorder[0])\n",
    "        # 左子树\n",
    "        root.left = self.buildTree(preorder[1:idx+1], inorder[:idx])\n",
    "        # 右子树\n",
    "        root.right = self.buildTree(preorder[idx+1:], inorder[idx+1:])\n",
    "        return root"
   ]
  },
  {
   "cell_type": "code",
   "execution_count": null,
   "metadata": {},
   "outputs": [],
   "source": [
    "class Solution:\n",
    "    def buildTree(self, preorder: List[int], inorder: List[int]) -> TreeNode:\n",
    "        if not preorder:\n",
    "            return None\n",
    "            \n",
    "        root = TreeNode(preorder[0])\n",
    "        stack = []\n",
    "        L = len(preorder)\n",
    "        stack.append(root)\n",
    "        index = 0\n",
    "\n",
    "        for i in range(1, L):\n",
    "            preorderval = preorder[i]\n",
    "            if inorder[index] != stack[-1].val: # 比较栈顶元素和inorder\n",
    "                node = stack[-1]\n",
    "                node.left = TreeNode(preorderval)\n",
    "                stack.append(node.left)\n",
    "            else:\n",
    "                while stack and stack[-1].val == inorder[index]:  # 最后一个相等的节点\n",
    "                    node = stack[-1]\n",
    "                    stack.pop()\n",
    "                    index += 1\n",
    "                node.right = TreeNode(preorderval)\n",
    "                stack.append(node.right)\n",
    "        return root"
   ]
  },
  {
   "cell_type": "code",
   "execution_count": null,
   "metadata": {},
   "outputs": [],
   "source": []
  },
  {
   "cell_type": "markdown",
   "metadata": {},
   "source": [
    "**371. 两整数之和**<br>\n",
    "不使用运算符 + 和 - ，计算两整数 a 、b 之和。<br>\n",
    "示例 2:<br>\n",
    "输入: a = -2, b = 3<br>\n",
    "输出: 1<br>"
   ]
  },
  {
   "cell_type": "code",
   "execution_count": null,
   "metadata": {},
   "outputs": [],
   "source": [
    "class Solution:\n",
    "    def getSum(self, a: int, b: int) -> int:\n",
    "        a &= 0xFFFFFFFF  # 长度截断为32位（前面的1倍舍弃）\n",
    "        b &= 0xFFFFFFFF\n",
    "        while b:  # 加法转化为 进位 和 亦或\n",
    "            carry = a & b\n",
    "            a ^= b  # 亦或、左移完成一次循环\n",
    "            b = ((carry) << 1) & 0xFFFFFFFF\n",
    "        # 从有符号的观点审查结果\n",
    "        return a if a < 0x80000000 else (a & 0xFFFFFFFF) - 0x100000000  # 截断 减去模\n",
    "        # 由于原数据是有符号的\n",
    "        # -2的反码加-2的反码为-4的反码，如何提取-4呢？-4的反码对应的无符号数是模减去4，所以用反码减去模就是\n",
    "        # 想要的结果\n",
    "        # 为什么是0x80000000呢，因为这是32位能表示的最大有符号数，大于这个数，表示是一计算结果是一个负数，而把一个负数正确表示就是直接用对应\n",
    "        # 无符号(目标值的补码)减去模"
   ]
  },
  {
   "cell_type": "markdown",
   "metadata": {},
   "source": [
    "Python的优先级排行榜：<br>\n",
    "1.函数、寻址 <br>\n",
    "2.幂运算 **<br>\n",
    "3.翻转运算~<br>\n",
    "4.正负号，正负号要紧挨操作数，否则会出错，在python3中可以不用紧挨操作数<br>\n",
    "5.*、/、%<br>\n",
    "6.+，-<br>\n",
    "7.<<,>><br>\n",
    "8.&、^、|，这三个也有优先级，但处于同一级，故而不细分<br>\n",
    "9.比较运算符<br>\n",
    "10.逻辑的not、and、or<br>\n",
    "11.lambda表达式：<br>"
   ]
  },
  {
   "cell_type": "code",
   "execution_count": null,
   "metadata": {},
   "outputs": [],
   "source": []
  },
  {
   "cell_type": "markdown",
   "metadata": {},
   "source": [
    "234. 回文链表<br>\n",
    "请判断一个链表是否为回文链表。<br>\n",
    "示例 1:<br>\n",
    "输入: 1->2<br>\n",
    "输出: false<br>    \n",
    "示例 2:<br>\n",
    "输入: 1->2->2->1<br>\n",
    "输出: true<br>\n",
    "思路1：链表遍历+双指针 时间/空间都是O(N)<br>\n",
    "思路2：快慢指针寻找中点+链表反转+双指针 时间O(N)空间O(1)"
   ]
  },
  {
   "cell_type": "code",
   "execution_count": null,
   "metadata": {},
   "outputs": [],
   "source": [
    "class Solution:\n",
    "    def isPalindrome(self, head: ListNode) -> bool:\n",
    "        if not head or head.next == None:\n",
    "            return True\n",
    "        stack = []\n",
    "        while head:\n",
    "            stack.append(head.val)\n",
    "            head = head.next\n",
    "        i , j = 0, len(stack)-1\n",
    "        \n",
    "        flag = True\n",
    "        while i < j:\n",
    "            if stack[i] != stack[j]:\n",
    "                flag = False\n",
    "                break\n",
    "            else:\n",
    "                i += 1\n",
    "                j -= 1\n",
    "        return flag"
   ]
  },
  {
   "cell_type": "code",
   "execution_count": null,
   "metadata": {},
   "outputs": [],
   "source": [
    "class Solution:\n",
    "    def isPalindrome(self, head: ListNode) -> bool:\n",
    "        if head is None:\n",
    "            return True\n",
    "\n",
    "        # Find the end of first half and reverse second half.\n",
    "        first_half_end = self.end_of_first_half(head)  # 中间节点\n",
    "        second_half_start = self.reverse_list(first_half_end.next)  # 尾结点到中间节点\n",
    "\n",
    "        # Check whether or not there's a palindrome.\n",
    "        result = True\n",
    "        first_position = head\n",
    "        second_position = second_half_start\n",
    "        while result and second_position is not None:\n",
    "            if first_position.val != second_position.val:\n",
    "                result = False\n",
    "            first_position = first_position.next\n",
    "            second_position = second_position.next\n",
    "\n",
    "        # Restore the list and return the result.\n",
    "        first_half_end.next = self.reverse_list(second_half_start)\n",
    "        return result    \n",
    "\n",
    "    def end_of_first_half(self, head):\n",
    "        \"\"\" 寻找链表中点\"\"\"\n",
    "        fast = head\n",
    "        slow = head\n",
    "        while fast.next is not None and fast.next.next is not None:\n",
    "            fast = fast.next.next\n",
    "            slow = slow.next\n",
    "        return slow\n",
    "\n",
    "    def reverse_list(self, head):\n",
    "        \"\"\"链表反转，返回反转后的头部\"\"\"\n",
    "        previous = None\n",
    "        current = head\n",
    "        while current is not None:\n",
    "            next_node = current.next\n",
    "            current.next = previous\n",
    "            previous = current\n",
    "            current = next_node\n",
    "        return previous"
   ]
  },
  {
   "cell_type": "code",
   "execution_count": null,
   "metadata": {},
   "outputs": [],
   "source": []
  },
  {
   "cell_type": "markdown",
   "metadata": {},
   "source": [
    "**11. 盛最多水的容器**<br>\n",
    "给你 n 个非负整数 a1，a2，...，an，每个数代表坐标中的一个点 (i, ai) 。在坐标内画 n 条垂直线，垂直线 i 的两个端点分别为<br>\n",
    "(i, ai) 和 (i, 0)。找出其中的两条线，使得它们与 x 轴共同构成的容器可以容纳最多的水。<br>\n",
    "示例：<br>\n",
    "输入：[1,8,6,2,5,4,8,3,7]<br>\n",
    "输出：49<br>"
   ]
  },
  {
   "cell_type": "code",
   "execution_count": null,
   "metadata": {},
   "outputs": [],
   "source": [
    "class Solution:\n",
    "    def maxArea(self, height: List[int]) -> int:\n",
    "        l, r = 0, len(height) - 1\n",
    "        res = min(height[l], height[r]) * (r-l)\n",
    "        while l < r:\n",
    "            if height[l] <= height[r]:\n",
    "                l += 1\n",
    "            else:\n",
    "                r -= 1                \n",
    "            res = max(res, min(height[l], height[r]) * (r - l))\n",
    "        return res"
   ]
  }
 ],
 "metadata": {
  "kernelspec": {
   "display_name": "Python 3",
   "language": "python",
   "name": "python3"
  },
  "language_info": {
   "codemirror_mode": {
    "name": "ipython",
    "version": 3
   },
   "file_extension": ".py",
   "mimetype": "text/x-python",
   "name": "python",
   "nbconvert_exporter": "python",
   "pygments_lexer": "ipython3",
   "version": "3.6.2"
  }
 },
 "nbformat": 4,
 "nbformat_minor": 4
}
