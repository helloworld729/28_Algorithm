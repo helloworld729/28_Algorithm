{
 "cells": [
  {
   "cell_type": "markdown",
   "metadata": {},
   "source": [
    "**题目**<br>\n",
    "给定一个无向图graph，当这个图为二分图时返回true。<br>\n",
    "如果我们能将一个图的节点集合分割成两个独立的子集A和B，并使图中的每一条边的两个节点一个来自A集合，一个来自B集合，我们就将这个图称为二分图。<br>\n",
    "graph将会以邻接表方式给出，graph[i]表示图中与节点i相连的所有节点。每个节点都是一个在0到graph.length-1之间的整数。这图中没有自环和平行边：<br>\n",
    "graph[i] 中不存在i，并且graph[i]中没有重复的值。<br>\n",
    "\n",
    "\n",
    "**示例 1:**<br>\n",
    "输入: [[1,3], [0,2], [1,3], [0,2]]<br>\n",
    "输出: true<br>\n",
    "解释: <br>\n",
    "无向图如下:<br>\n",
    "0----1<br>\n",
    "|&nbsp;&nbsp;&nbsp;&nbsp;&nbsp;&nbsp;|<br>\n",
    "|&nbsp;&nbsp;&nbsp;&nbsp;&nbsp;&nbsp;|<br>\n",
    "3----2<br>\n",
    "我们可以将节点分成两组: {0, 2} 和 {1, 3}。<br>\n",
    "\n",
    "**示例 2:**<br>\n",
    "输入: [[1,2,3], [0,2], [0,1,3], [0,2]]<br>\n",
    "输出: false<br>\n",
    "解释: <br>\n",
    "无向图如下:<br>\n",
    "0----1<br>\n",
    "|&nbsp;&nbsp;&nbsp; \\&nbsp;&nbsp;&nbsp;  |<br>\n",
    "| &nbsp;&nbsp;&nbsp; \\&nbsp;&nbsp;|<br>\n",
    "3----2<br>\n",
    "我们不能将节点分割成两个独立的子集。<br>\n",
    "注意:<br>\n",
    "\n",
    "graph 的长度范围为 [1, 100]。<br>\n",
    "graph[i] 中的元素的范围为 [0, graph.length - 1]。<br>\n",
    "graph[i] 不会包含 i 或者有重复的值。<br>\n",
    "图是无向的: 如果j 在 graph[i]里边, 那么 i 也会在 graph[j]里边。<br>\n",
    "\n",
    "来源：力扣785（LeetCode）\n",
    "链接：https://leetcode-cn.com/problems/is-graph-bipartite<br>\n",
    "**思路**<br>\n",
    "dfs + 染色"
   ]
  },
  {
   "cell_type": "code",
   "execution_count": 3,
   "metadata": {},
   "outputs": [],
   "source": [
    "class Solution:\n",
    "    def isBipartite(self, graph) -> bool:\n",
    "        color = {}\n",
    "        for node in range(len(graph)):  # 节点索引\n",
    "            if node not in color:  # 结点\n",
    "                stack = [node]\n",
    "                color[node] = 0\n",
    "                while stack:\n",
    "                    node = stack.pop()\n",
    "                    for nei in graph[node]:  # 相邻节点列表\n",
    "                        if nei not in color:\n",
    "                            stack.append(nei)\n",
    "                            color[nei] = 1 - color[node]\n",
    "                        elif color[nei] == color[node]:\n",
    "                            return False\n",
    "        return True"
   ]
  },
  {
   "cell_type": "code",
   "execution_count": null,
   "metadata": {},
   "outputs": [],
   "source": []
  }
 ],
 "metadata": {
  "kernelspec": {
   "display_name": "Python 3",
   "language": "python",
   "name": "python3"
  },
  "language_info": {
   "codemirror_mode": {
    "name": "ipython",
    "version": 3
   },
   "file_extension": ".py",
   "mimetype": "text/x-python",
   "name": "python",
   "nbconvert_exporter": "python",
   "pygments_lexer": "ipython3",
   "version": "3.6.2"
  }
 },
 "nbformat": 4,
 "nbformat_minor": 4
}
