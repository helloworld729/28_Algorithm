{
 "cells": [
  {
   "cell_type": "markdown",
   "metadata": {},
   "source": [
    "## 一、二分法"
   ]
  },
  {
   "cell_type": "markdown",
   "metadata": {},
   "source": [
    "实现 int sqrt(int x) 函数。\n",
    "\n",
    "计算并返回 x 的平方根，其中 x 是非负整数。\n",
    "\n",
    "由于返回类型是整数，结果只保留整数的部分，小数部分将被舍去。\n",
    "\n",
    "来源：力扣（LeetCode）\n",
    "链接：https://leetcode-cn.com/problems/sqrtx\n"
   ]
  },
  {
   "cell_type": "code",
   "execution_count": 12,
   "metadata": {},
   "outputs": [],
   "source": [
    "def sqrt(x):\n",
    "    if x<=1:\n",
    "        return x\n",
    "    l, r = 0, x\n",
    "    while l < r:\n",
    "        mid = int(0.5 * ( l + r ))\n",
    "        if mid * mid <= x:\n",
    "            l = mid\n",
    "        else:\n",
    "            r = mid\n",
    "        if (l + 1)==r:\n",
    "            return l\n",
    "    "
   ]
  },
  {
   "cell_type": "code",
   "execution_count": 18,
   "metadata": {},
   "outputs": [
    {
     "name": "stdout",
     "output_type": "stream",
     "text": [
      "0 0 ## 1 1 ## 2 1 ## 3 1 ## 4 2 ## "
     ]
    }
   ],
   "source": [
    "for i in range(5):\n",
    "    print(i, sqrt(i), end=' ## ')"
   ]
  },
  {
   "cell_type": "markdown",
   "metadata": {},
   "source": [
    "## 二、分治"
   ]
  },
  {
   "cell_type": "markdown",
   "metadata": {},
   "source": [
    "给定一个含有数字和运算符的字符串，为表达式添加括号，改变其运算优先级以<br>求出不同的结果。你需要给出所有可能的组合的结果。有效的运算符号包含 +, - 以及 * 。<br>\n",
    "\n",
    "示例 1:<br>\n",
    "输入: \"2\\*3-4\\*5\"<br>\n",
    "输出: [-34, -14, -10, -10, 10]<br>\n",
    "解释: \n",
    "(2\\*(3-(4\\*5))) = -34 <br>\n",
    "((2\\*3)-(4\\*5)) = -14 <br>\n",
    "((2\\*(3-4))\\*5) = -10 <br>\n",
    "(2\\*((3-4)\\*5)) = -10 <br>\n",
    "(((2\\*3)-4)\\*5) = 10<br>\n",
    "\n",
    "来源：力扣（LeetCode）241题目<br>\n",
    "链接：https://leetcode-cn.com/problems/different-ways-to-add-parentheses\n"
   ]
  },
  {
   "cell_type": "code",
   "execution_count": 109,
   "metadata": {},
   "outputs": [],
   "source": [
    "def diffcal(input: 'str'):\n",
    "    return_list = []   \n",
    "    for index, char in enumerate(input):\n",
    "        if char in ['+', '-', '*']:  # 等式中可能有多个运算符\n",
    "            left = diffcal(input[:index])\n",
    "            right = diffcal(input[index+1:])\n",
    "            \n",
    "            for l in left:\n",
    "                for r in right:\n",
    "                    if char == '+':\n",
    "                        return_list.append( l + r)\n",
    "                    if char == '-':\n",
    "                        return_list.append( l - r)\n",
    "                    if char == '*':\n",
    "                        return_list.append( l * r)\n",
    "    if not return_list:  # 边界条件,兜底现场\n",
    "        return_list.append(int(input))\n",
    "    return return_list          \n",
    "    "
   ]
  },
  {
   "cell_type": "code",
   "execution_count": 110,
   "metadata": {},
   "outputs": [
    {
     "data": {
      "text/plain": [
       "[-34, -10, -14, -10, 10]"
      ]
     },
     "execution_count": 110,
     "metadata": {},
     "output_type": "execute_result"
    }
   ],
   "source": [
    "diffcal(\"2*3-4*5\")"
   ]
  },
  {
   "cell_type": "markdown",
   "metadata": {},
   "source": [
    "基本运算器"
   ]
  },
  {
   "cell_type": "markdown",
   "metadata": {},
   "source": [
    "实现一个基本的计算器来计算一个简单的字符串表达式的值。<br>\n",
    "\n",
    "字符串表达式可以包含左括号 ( ，右括号 )，加号 + ，减号 -，非负整数和空格  。<br>\n",
    "\n",
    "示例 1:<br>\n",
    "\n",
    "输入: \" 2-1 + 2 \"<br>\n",
    "输出: 3<br>\n",
    "\n",
    "来源：力扣224（LeetCode）<br>\n",
    "链接：https://leetcode-cn.com/problems/basic-calculator<br>"
   ]
  },
  {
   "cell_type": "code",
   "execution_count": 72,
   "metadata": {},
   "outputs": [],
   "source": [
    "def calculate(s: str) -> int:\n",
    "    flag = True\n",
    "    for index, char in enumerate(s):\n",
    "        if char in ['+', '-']:\n",
    "            flag = False\n",
    "            left = calculate(s[:index])\n",
    "            right = calculate(s[index+1:])\n",
    "            \n",
    "            if char == '+':\n",
    "                answer = left + right\n",
    "            elif char == '-':\n",
    "                answer = left - right\n",
    "    if flag:  # 边界条件\n",
    "        answer = int(s)\n",
    "    return answer     \n",
    "    "
   ]
  },
  {
   "cell_type": "markdown",
   "metadata": {},
   "source": [
    "## 三、哈希表-两数之和"
   ]
  },
  {
   "cell_type": "markdown",
   "metadata": {},
   "source": [
    "给定一个整数数组 nums 和一个目标值 target，请你在该数组中找出和为目标值的那 两个 整数，并返回他们的数组下标。<br>\n",
    "\n",
    "你可以假设每种输入只会对应一个答案。但是，你不能重复利用这个数组中同样的元素。<br>\n",
    "\n",
    "示例:<br>\n",
    "\n",
    "给定 nums = [2, 7, 11, 15], target = 9<br>\n",
    "\n",
    "因为 nums[0] + nums[1] = 2 + 7 = 9<br>\n",
    "所以返回 [0, 1]<br>\n",
    "\n",
    "来源：力扣（LeetCode）<br>\n",
    "链接：https://leetcode-cn.com/problems/two-sum<br>"
   ]
  },
  {
   "cell_type": "code",
   "execution_count": 92,
   "metadata": {},
   "outputs": [],
   "source": [
    "def twoSum(nums, target):\n",
    "    infos = {}\n",
    "    for index in range(len(nums)):\n",
    "        if target - nums[index] in infos.keys():\n",
    "            return [infos[target - nums[index]], index]        \n",
    "        infos[nums[index]] = index"
   ]
  },
  {
   "cell_type": "code",
   "execution_count": 93,
   "metadata": {},
   "outputs": [
    {
     "data": {
      "text/plain": [
       "[1, 2]"
      ]
     },
     "execution_count": 93,
     "metadata": {},
     "output_type": "execute_result"
    }
   ],
   "source": [
    "twoSum([1,2,3,4], 5)"
   ]
  },
  {
   "cell_type": "markdown",
   "metadata": {},
   "source": [
    "## 四、字符串-字母异位词"
   ]
  },
  {
   "cell_type": "markdown",
   "metadata": {},
   "source": [
    "给定两个字符串 s 和 t ，编写一个函数来判断 t 是否是 s 的字母异位词。<br>\n",
    "\n",
    "示例 1:<br>\n",
    "\n",
    "输入: s = \"anagram\", t = \"nagaram\"<br>\n",
    "输出: true<br>\n",
    "示例 2:<br>\n",
    "\n",
    "输入: s = \"rat\", t = \"car\"<br>\n",
    "输出: false<br>\n",
    "\n",
    "进阶:\n",
    "如果输入字符串包含 unicode 字符怎么办？你能否调整你的解法来应对这种情况？<br>\n",
    "\n",
    "来源：力扣242（LeetCode）\n",
    "链接：https://leetcode-cn.com/problems/valid-anagram"
   ]
  },
  {
   "cell_type": "code",
   "execution_count": 132,
   "metadata": {},
   "outputs": [],
   "source": [
    "def isAnagram(s: str, t: str) -> bool:\n",
    "    infos = [0] * 26\n",
    "    for char in s:\n",
    "        infos[ord(char) - ord('a')] += 1  # ord返回acaii索引\n",
    "    for char in t:\n",
    "        infos[ord(char) - ord('a')] -= 1\n",
    "    for i in infos:\n",
    "        if i != 0:\n",
    "            return False\n",
    "    return True"
   ]
  },
  {
   "cell_type": "markdown",
   "metadata": {},
   "source": [
    "测试："
   ]
  },
  {
   "cell_type": "code",
   "execution_count": 108,
   "metadata": {},
   "outputs": [
    {
     "data": {
      "text/plain": [
       "False"
      ]
     },
     "execution_count": 108,
     "metadata": {},
     "output_type": "execute_result"
    }
   ],
   "source": [
    "isAnagram( s = \"rat\", t = \"car\")"
   ]
  },
  {
   "cell_type": "code",
   "execution_count": 107,
   "metadata": {},
   "outputs": [
    {
     "data": {
      "text/plain": [
       "True"
      ]
     },
     "execution_count": 107,
     "metadata": {},
     "output_type": "execute_result"
    }
   ],
   "source": [
    "isAnagram(s = \"anagram\", t = \"nagaram\")"
   ]
  },
  {
   "cell_type": "markdown",
   "metadata": {},
   "source": [
    "  "
   ]
  },
  {
   "cell_type": "code",
   "execution_count": 129,
   "metadata": {},
   "outputs": [],
   "source": [
    "def isAnagram(s: str, t: str) -> bool:\n",
    "    infos = {}\n",
    "    for char in s:\n",
    "        infos[char] = infos.get(char, 0) + 1  # get  方法查询键值，如果没有返回None，护着指定的默认值，此处为0\n",
    "    for char in t:\n",
    "        infos[char] = infos.get(char, 0) - 1\n",
    "    for i in infos.values():\n",
    "        if i != 0:\n",
    "            return False\n",
    "    return True"
   ]
  },
  {
   "cell_type": "markdown",
   "metadata": {},
   "source": [
    "测试"
   ]
  },
  {
   "cell_type": "code",
   "execution_count": 130,
   "metadata": {},
   "outputs": [
    {
     "data": {
      "text/plain": [
       "False"
      ]
     },
     "execution_count": 130,
     "metadata": {},
     "output_type": "execute_result"
    }
   ],
   "source": [
    "isAnagram('你好', '好啊')"
   ]
  },
  {
   "cell_type": "code",
   "execution_count": 131,
   "metadata": {},
   "outputs": [
    {
     "data": {
      "text/plain": [
       "True"
      ]
     },
     "execution_count": 131,
     "metadata": {},
     "output_type": "execute_result"
    }
   ],
   "source": [
    "isAnagram('你好', '你好')"
   ]
  },
  {
   "cell_type": "markdown",
   "metadata": {},
   "source": [
    "   "
   ]
  },
  {
   "cell_type": "code",
   "execution_count": null,
   "metadata": {},
   "outputs": [],
   "source": []
  }
 ],
 "metadata": {
  "kernelspec": {
   "display_name": "Python 3",
   "language": "python",
   "name": "python3"
  },
  "language_info": {
   "codemirror_mode": {
    "name": "ipython",
    "version": 3
   },
   "file_extension": ".py",
   "mimetype": "text/x-python",
   "name": "python",
   "nbconvert_exporter": "python",
   "pygments_lexer": "ipython3",
   "version": "3.6.2"
  }
 },
 "nbformat": 4,
 "nbformat_minor": 4
}
