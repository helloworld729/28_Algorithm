{
 "cells": [
  {
   "cell_type": "markdown",
   "metadata": {},
   "source": [
    "## 一、对撞指针-两数之和"
   ]
  },
  {
   "cell_type": "markdown",
   "metadata": {},
   "source": [
    "**题目**<br>\n",
    "给定一个已按照**升序排列** 的有序数组，找到两个数使得它们相加之和等于目标数。<br>\n",
    "\n",
    "函数应该返回这两个下标值 index1 和 index2，其中 index1 必须小于 index2。<br>\n",
    "\n",
    "__说明__:<br>\n",
    "返回的下标值（index1 和 index2）不是从零开始的。<br>\n",
    "你可以假设每个输入只对应唯一的答案，而且你不可以重复使用相同的元素。<br>\n",
    "\n",
    "**示例:**<br>\n",
    "输入: numbers = [2, 7, 11, 15], target = 9<br>\n",
    "输出: [1,2]<br>\n",
    "解释: 2 与 7 之和等于目标数 9 。因此 index1 = 1, index2 = 2 。<br>\n",
    "\n",
    "来源：力扣167（LeetCode）\n",
    "链接：https://leetcode-cn.com/problems/two-sum-ii-input-array-is-sorted<br>\n",
    "\n",
    "**知识点**<br>\n",
    "对撞指针用于遍历数组，当数组已经是有序的情况下，用两个指针分别指向最大和最小的元素<br>\n",
    "然后协同移动，完成所需的任务。<br>\n",
    "\n",
    "**<font color=#FF0000>思路:</font>**<br>\n",
    "1、当和大于target时：左移大指针<br>\n",
    "2、当和小于target时：右移小指针<br>\n",
    "3、没有解返回None"
   ]
  },
  {
   "cell_type": "code",
   "execution_count": 4,
   "metadata": {},
   "outputs": [],
   "source": [
    "def twoSum(numbers, target):\n",
    "    \"\"\"nums=[2,7,11,15]\"\"\"\n",
    "    l, r = 0, len(numbers) - 1\n",
    "    while l < r:\n",
    "        if numbers[l] + numbers[r] == target:\n",
    "            return [l, r]\n",
    "        elif numbers[l] + numbers[r] < target:\n",
    "            l += 1\n",
    "        elif numbers[l] + numbers[r] > target:\n",
    "            r -= 1\n",
    "    return None       \n",
    "    "
   ]
  },
  {
   "cell_type": "markdown",
   "metadata": {},
   "source": [
    "测试："
   ]
  },
  {
   "cell_type": "code",
   "execution_count": 6,
   "metadata": {},
   "outputs": [
    {
     "data": {
      "text/plain": [
       "[2, 3]"
      ]
     },
     "execution_count": 6,
     "metadata": {},
     "output_type": "execute_result"
    }
   ],
   "source": [
    "twoSum([2,7,11,15], 26)"
   ]
  },
  {
   "cell_type": "markdown",
   "metadata": {},
   "source": [
    "## 二、快排"
   ]
  },
  {
   "cell_type": "markdown",
   "metadata": {},
   "source": [
    "**题目**<br>\n",
    "在未排序的数组中找到** 第k 个最大的元素**。请注意，你需要找的是数组排序后的第 k 个最大的元素，而不是第 k 个不同的元素。<br>\n",
    "\n",
    "**示例:**<br>\n",
    "\n",
    "输入: [3,2,1,5,6,4] 和 k = 2<br>\n",
    "输出: 5<br>\n",
    "\n",
    "来源：力扣215（LeetCode）\n",
    "链接：https://leetcode-cn.com/problems/kth-largest-element-in-an-array<br>\n",
    "\n",
    "**知识点**<br>\n",
    "1、pivot：每次排序选择的基本元素，可以是第一个或者随机<br>\n",
    "2、partition：一次遍历称作一次partition<br>\n",
    "3、利用双指针配合操作<br>\n",
    "**思路**<br>\n",
    "如果不需要全部排序可以根据具体情况，对单侧排序"
   ]
  },
  {
   "cell_type": "code",
   "execution_count": 14,
   "metadata": {},
   "outputs": [],
   "source": [
    "def q_sort(lst, l, r):\n",
    "    \"\"\"\n",
    "    快速排序\n",
    "    :param lst:待排列表\n",
    "    :param l: 左指针\n",
    "    :param r: 右指针\n",
    "    :return:\n",
    "    \"\"\"\n",
    "    if l >= r:  # 边界条件，只有一个元素\n",
    "        return\n",
    "\n",
    "    i, j = l, r  # l和r要控制递归\n",
    "    pivot = lst[i]  # 选取第一个元素作为pivot\n",
    "\n",
    "    while i < j:    # 处理办法：partition\n",
    "        while i < j and lst[j] >= pivot:  # 比基准大则左滑，小则停止, 第一个条件保证第一个数最小时数组不会越界\n",
    "            j -= 1\n",
    "        if i < j:  # 查距填坑\n",
    "            lst[i] = lst[j]\n",
    "            i += 1\n",
    "        while i < j and lst[i] <= pivot:  # 比基准小则右滑，大则停止\n",
    "            i += 1\n",
    "        if i < j:  # 查距填坑\n",
    "            lst[j] = lst[i]\n",
    "            j -= 1\n",
    "    lst[i] = pivot  # 跳出循环后i==j，为pivot的正确位置\n",
    "    \n",
    "    q_sort(lst, l, i-1)  # 递归推进，左侧快排，因为lst改变所以递归推进放到后面\n",
    "    q_sort(lst, i+1, r)  # 递归推进，右侧快排，\n",
    "\n",
    "    return lst"
   ]
  },
  {
   "cell_type": "code",
   "execution_count": 15,
   "metadata": {},
   "outputs": [
    {
     "data": {
      "text/plain": [
       "[3, 4, 5, 6]"
      ]
     },
     "execution_count": 15,
     "metadata": {},
     "output_type": "execute_result"
    }
   ],
   "source": [
    "q_sort([3,5,6,4], 0, 3)"
   ]
  },
  {
   "cell_type": "code",
   "execution_count": 157,
   "metadata": {},
   "outputs": [],
   "source": [
    "def q_sort(lst,k):\n",
    "    \"\"\"\n",
    "    基于切片的第K大，递归时是全新的变量\n",
    "    :param lst:待排列表\n",
    "    :param l: 左指针\n",
    "    :param r: 右指针\n",
    "    :param k: 返回第K大的元素，如果pivot位置在k右边，那么右边的部分不用继续排序\n",
    "    :return:\n",
    "    \"\"\"\n",
    "    if k <= 0:\n",
    "        return None\n",
    "    l, r = 0, len(lst) - 1\n",
    "    if l >= r:  # 边界条件，只有一个元素\n",
    "        return lst[l]\n",
    "\n",
    "    i, j = l, r  # l和r要控制递归\n",
    "    pivot = lst[i]  # 选取第一个元素作为pivot\n",
    "\n",
    "    while i < j:    # 处理办法：partition\n",
    "        while i < j and lst[j] >= pivot:  # 比基准大则左滑，小则停止, 第一个条件保证第一个数最小时数组不会越界\n",
    "            j -= 1\n",
    "        if i < j:  # 查距填坑\n",
    "            lst[i] = lst[j]\n",
    "            i += 1\n",
    "        while i < j and lst[i] <= pivot:  # 比基准小则右滑，大则停止\n",
    "            i += 1\n",
    "        if i < j:  # 查距填坑\n",
    "            lst[j] = lst[i]\n",
    "            j -= 1\n",
    "    lst[i] = pivot  # 跳出循环后i==j，为pivot的正确位置\n",
    "    \n",
    "    if i == k-1:\n",
    "        return lst[i]\n",
    "    elif i < k-1:\n",
    "        return q_sort(lst[i+1:], k-i-1)  # 递归推进，右侧快排，\n",
    "    elif i > k-1:\n",
    "        return q_sort(lst[l: i], k)  # 递归推进，左侧快排，因为lst改变所以递归推进放到后面    "
   ]
  },
  {
   "cell_type": "code",
   "execution_count": 158,
   "metadata": {},
   "outputs": [
    {
     "data": {
      "text/plain": [
       "5"
      ]
     },
     "execution_count": 158,
     "metadata": {},
     "output_type": "execute_result"
    }
   ],
   "source": [
    "q_sort([3,5,6,4],3)"
   ]
  },
  {
   "cell_type": "code",
   "execution_count": 151,
   "metadata": {},
   "outputs": [],
   "source": [
    "def q_sort(lst, l, r, k):\n",
    "    \"\"\"\n",
    "    基于边界的第K大，减少变量使用\n",
    "    :param lst:待排列表\n",
    "    :param l: 左指针\n",
    "    :param r: 右指针\n",
    "    :param k: 返回第K大的元素，如果pivot位置在k右边，那么右边的部分不用继续排序\n",
    "    :return:\n",
    "    \"\"\"\n",
    "    if k <= 0:\n",
    "        return None\n",
    "    if k > len(lst):\n",
    "        k = len(lst)\n",
    "    \n",
    "    if l >= r:  # 边界条件，只有一个元素\n",
    "        return lst[r]\n",
    "\n",
    "    i, j = l, r  # l和r要控制递归\n",
    "    pivot = lst[i]  # 选取第一个元素作为pivot\n",
    "\n",
    "    while i < j:    # 处理办法：partition\n",
    "        while i < j and lst[j] >= pivot:  # 比基准大则左滑，小则停止, 第一个条件保证第一个数最小时数组不会越界\n",
    "            j -= 1\n",
    "        if i < j:  # 查距填坑\n",
    "            lst[i] = lst[j]\n",
    "            i += 1\n",
    "        while i < j and lst[i] <= pivot:  # 比基准小则右滑，大则停止\n",
    "            i += 1\n",
    "        if i < j:  # 查距填坑\n",
    "            lst[j] = lst[i]\n",
    "            j -= 1\n",
    "    lst[i] = pivot  # 跳出循环后i==j，为pivot的正确位置\n",
    "    \n",
    "    if i == k-1:\n",
    "        return lst[i]\n",
    "    elif i < k-1:\n",
    "        return q_sort(lst, i+1, r, k-i)  # 递归推进，右侧快排，\n",
    "    elif i > k-1:\n",
    "        return q_sort(lst, l, i-1, k)  # 递归推进，左侧快排，因为lst改变所以递归推进放到后面    "
   ]
  },
  {
   "cell_type": "code",
   "execution_count": 152,
   "metadata": {},
   "outputs": [
    {
     "data": {
      "text/plain": [
       "6"
      ]
     },
     "execution_count": 152,
     "metadata": {},
     "output_type": "execute_result"
    }
   ],
   "source": [
    "q_sort([3,5,6,4],0, 3, 5)  # 5"
   ]
  },
  {
   "cell_type": "markdown",
   "metadata": {},
   "source": [
    "## 三、荷兰国旗"
   ]
  },
  {
   "cell_type": "markdown",
   "metadata": {},
   "source": [
    "**题目**\n",
    "给定一个包含红色、白色和蓝色，一共 n 个元素的数组，**原地对它们进行排序**，使得相同颜色的元素相邻，并按照红色、白色、蓝色顺序排列。\n",
    "\n",
    "此题中，我们使用整数 0、 1 和 2 分别表示红色、白色和蓝色。\n",
    "\n",
    "**注意:**\n",
    "不能使用代码库中的排序函数来解决这道题。\n",
    "\n",
    "**示例:**\n",
    "\n",
    "输入: [2,0,2,1,1,0]\n",
    "输出: [0,0,1,1,2,2]\n",
    "\n",
    "来源：力扣75（LeetCode）\n",
    "链接：https://leetcode-cn.com/problems/sort-colors\n",
    "\n",
    "**思路1**<br>\n",
    "1、计数<br>\n",
    "2、原地重写数组<br>\n",
    "\n",
    "**思路2**<br>\n",
    "三向切分快排：选择1作为pivot，遇到0排到左边，遇到2排到右边<br>\n",
    "now的左边肯定没有2，因为遇到2就跑到了后面，tail回退一步；<br>\n",
    "now的左边保证为0/1，遇到1pass，遇到0就抛到head；<br>\n",
    "now步进时机：遇到0并且和head交换后、遇到1<br>\n",
    "note：head和now分开后，head肯定不会指向0"
   ]
  },
  {
   "cell_type": "code",
   "execution_count": 174,
   "metadata": {},
   "outputs": [],
   "source": [
    "class Solution1:\n",
    "    def sortColors(self, nums):\n",
    "        cnts = [0]*3  # 3是颜色的数目\n",
    "        for i in nums:\n",
    "            cnts[i] += 1 # 完成计数\n",
    "\n",
    "        j = 0\n",
    "        for i in range(3):  # 3是颜色的数目\n",
    "            for k in range(cnts[i]):  # 某颜色的数目\n",
    "                nums[j] = i\n",
    "                j += 1\n",
    "        return nums"
   ]
  },
  {
   "cell_type": "code",
   "execution_count": 175,
   "metadata": {},
   "outputs": [
    {
     "name": "stdout",
     "output_type": "stream",
     "text": [
      "[0, 0, 1, 1, 2, 2]\n"
     ]
    }
   ],
   "source": [
    "a = Solution1()\n",
    "print(a.sortColors([2,0,2,1,1,0]))"
   ]
  },
  {
   "cell_type": "code",
   "execution_count": 7,
   "metadata": {},
   "outputs": [],
   "source": [
    "class Solution2:\n",
    "    def sortColors(self, nums):\n",
    "        head, now, tail = 0, 0, len(nums)-1\n",
    "        while now <= tail:  # 注意等于号否则【1，0，2】通过不了\n",
    "            if nums[now] == 2:  # 只有遇到2交换后才修改tail\n",
    "                nums[now], nums[tail] = nums[tail], nums[now]\n",
    "                tail -= 1 \n",
    "                print(nums)\n",
    "                \n",
    "            elif nums[now] == 0:  # 只有遇到0交换后才修改head\n",
    "                nums[now], nums[head] = nums[head], nums[now]\n",
    "                head += 1\n",
    "                now += 1  # now 必须在head的右侧\n",
    "                print(nums)\n",
    "            \n",
    "            else:  \n",
    "                now += 1  # 每一次操作要么tail减小，要么now增加，故一定会停止\n",
    "                \n",
    "        return nums"
   ]
  },
  {
   "cell_type": "code",
   "execution_count": 12,
   "metadata": {},
   "outputs": [
    {
     "name": "stdout",
     "output_type": "stream",
     "text": [
      "[1, 1, 2, 0, 2]\n",
      "[1, 1, 0, 2, 2]\n",
      "[0, 1, 1, 2, 2]\n",
      "[0, 1, 1, 2, 2]\n"
     ]
    }
   ],
   "source": [
    "a = Solution2()\n",
    "print(a.sortColors([2,1,2,0,1]))"
   ]
  },
  {
   "cell_type": "markdown",
   "metadata": {},
   "source": [
    "## 四、贪心"
   ]
  },
  {
   "cell_type": "markdown",
   "metadata": {},
   "source": [
    "**题目**：<br>\n",
    "假设你是一位很棒的家长，想要给你的孩子们一些小饼干。但是，每个孩子**最多只能给一块**饼干。<br>\n",
    "对每个孩子 i ，都有一个胃口值 gi ，这是能让孩子们满足胃口的饼干的最小尺寸；并且每块饼干 j ，<br>\n",
    "都有一个尺寸 sj 。如果 sj >= gi ，我们可以将这个饼干 j 分配给孩子 i ，这个孩子会得到满足。<br>\n",
    "你的目标是尽可能**满足越多数量**的孩子，并输出这个最大数值。<br>\n",
    "\n",
    "**注意**：<br>\n",
    "\n",
    "你可以假设胃口值为正。<br>\n",
    "一个小朋友最多只能拥有一块饼干。<br>\n",
    "\n",
    "**示例** 1:<br>\n",
    "\n",
    "输入: [1,2,3], [1,1]<br>\n",
    "\n",
    "输出: 1<br>\n",
    "\n",
    "**解释:** <br>\n",
    "你有三个孩子和两块小饼干，3个孩子的胃口值分别是：1,2,3。<br>\n",
    "虽然你有两块小饼干，由于他们的尺寸都是1，你只能让胃口值是1的孩子满足。<br>\n",
    "所以你应该输出1。<br>\n",
    "\n",
    "来源：力扣455（LeetCode）\n",
    "链接：https://leetcode-cn.com/problems/assign-cookies<br>\n",
    "\n",
    "**思路:** <br>"
   ]
  },
  {
   "cell_type": "code",
   "execution_count": 8,
   "metadata": {},
   "outputs": [],
   "source": [
    "class Solution:\n",
    "    def findContentChildren(self, g, s):  # g是胃口，s是饼干\n",
    "        g, s = sorted(g), sorted(s)  # 正排        \n",
    "        cnts_g, cnts_s = 0, 0  # 等待满足的胃口索引， 当前饼干索引\n",
    "        \n",
    "        while cnts_g < len(g) and cnts_s < len(s):\n",
    "            if g[cnts_g] <= s[cnts_s]:\n",
    "                cnts_g += 1\n",
    "            cnts_s += 1\n",
    "        return cnts_g        "
   ]
  },
  {
   "cell_type": "code",
   "execution_count": 9,
   "metadata": {},
   "outputs": [
    {
     "name": "stdout",
     "output_type": "stream",
     "text": [
      "1\n"
     ]
    }
   ],
   "source": [
    "a = Solution()\n",
    "print(a.findContentChildren([1,2,3], [1,1]))"
   ]
  },
  {
   "cell_type": "code",
   "execution_count": null,
   "metadata": {},
   "outputs": [],
   "source": []
  }
 ],
 "metadata": {
  "kernelspec": {
   "display_name": "Python 3",
   "language": "python",
   "name": "python3"
  },
  "language_info": {
   "codemirror_mode": {
    "name": "ipython",
    "version": 3
   },
   "file_extension": ".py",
   "mimetype": "text/x-python",
   "name": "python",
   "nbconvert_exporter": "python",
   "pygments_lexer": "ipython3",
   "version": "3.6.2"
  }
 },
 "nbformat": 4,
 "nbformat_minor": 4
}
