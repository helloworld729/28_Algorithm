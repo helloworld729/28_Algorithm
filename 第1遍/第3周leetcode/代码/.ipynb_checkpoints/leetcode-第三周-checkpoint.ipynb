{
 "cells": [
  {
   "cell_type": "markdown",
   "metadata": {},
   "source": [
    "## 一、求众数"
   ]
  },
  {
   "cell_type": "markdown",
   "metadata": {},
   "source": [
    "**题目**：\n",
    "给定一个大小为 n 的数组，找到其中的多数元素。多数元素是指在数组中出现次数大于 ⌊ n/2 ⌋ 的元素。<br>\n",
    "你可以假设数组是非空的，并且给定的数组总是存在多数元素。 <br>\n",
    "这里的众数和数学上出现次数最多的概念不一致，这里要求次数必须超过一半。<br>\n",
    "\n",
    "**示例**:\n",
    "输入: [2,2,1,1,1,2,2]\n",
    "输出: 2<br>\n",
    "\n",
    "来源：力扣169（LeetCode）\n",
    "链接：https://leetcode-cn.com/problems/majority-element<br>\n",
    "\n",
    "思路：<br>\n",
    "1、用多数投票算法：局部不是众数则整体不是众数<br>\n",
    "2、直接排序求解"
   ]
  },
  {
   "cell_type": "code",
   "execution_count": 4,
   "metadata": {},
   "outputs": [],
   "source": [
    "class Solution:\n",
    "    def majorityElement(self, nums):\n",
    "        cnt, majority  = 0, nums[0]\n",
    "        for num in nums:\n",
    "            if cnt == 0:\n",
    "                majority = num\n",
    "            if majority == num:\n",
    "                cnt += 1\n",
    "            else:\n",
    "                cnt -= 1\n",
    "        return majority              "
   ]
  },
  {
   "cell_type": "code",
   "execution_count": 7,
   "metadata": {},
   "outputs": [
    {
     "data": {
      "text/plain": [
       "1"
      ]
     },
     "execution_count": 7,
     "metadata": {},
     "output_type": "execute_result"
    }
   ],
   "source": [
    "a = Solution()\n",
    "a.majorityElement([1,2,1,1,1,1,1,2,3,6,3])"
   ]
  },
  {
   "cell_type": "code",
   "execution_count": 8,
   "metadata": {},
   "outputs": [],
   "source": [
    "class Solution2:\n",
    "    def majorityElement(self, nums):\n",
    "        nums = sorted(nums)\n",
    "        return nums[len(nums)//2]"
   ]
  },
  {
   "cell_type": "code",
   "execution_count": 9,
   "metadata": {},
   "outputs": [
    {
     "data": {
      "text/plain": [
       "1"
      ]
     },
     "execution_count": 9,
     "metadata": {},
     "output_type": "execute_result"
    }
   ],
   "source": [
    "a = Solution2()\n",
    "a.majorityElement([1,2,1,1,1,1,1,2,3,6,3])"
   ]
  },
  {
   "cell_type": "markdown",
   "metadata": {},
   "source": [
    "## 二、进制转换"
   ]
  },
  {
   "cell_type": "markdown",
   "metadata": {},
   "source": [
    "**题目**\n",
    "给定一个整数，将其转化为7进制，并以字符串形式输出。\n",
    "\n",
    "**示例 1**:\n",
    "输入: 100\n",
    "输出: \"202\"<br>\n",
    "**示例 2**:\n",
    "输入: -7\n",
    "输出: \"-10\"<br>\n",
    "注意: 输入范围是 [-1e7, 1e7] 。\n",
    "\n",
    "**思路**：\n",
    "nums %7 确定本权位<br>\n",
    "nums//7 确定高权位<br>\n",
    "65/7  = 9...2 :65按7编组后，剩余2即7的0次对应；<br>\n",
    "65//7 = 9 :除去余数后可以用9个7表示；<br>\n",
    "9/7  = 1...2：假设现在有9组7，7个组成一组可以用更高位表示，剩下2个在本层表示。<br>\n",
    "归纳：商表示高层，余数表示本层"
   ]
  },
  {
   "cell_type": "code",
   "execution_count": 24,
   "metadata": {},
   "outputs": [],
   "source": [
    "class Solution:\n",
    "    def convertToBase7(self, num):\n",
    "        if num == 0:\n",
    "            return '0'\n",
    "        is_neg = True if num < 0 else False\n",
    "        if is_neg:\n",
    "            num = -num\n",
    "        ans =''\n",
    "        if num > 0:\n",
    "            while num > 0:\n",
    "                ans += str(num%7)\n",
    "                num //= 7\n",
    "        ans = ans[::-1]\n",
    "        if is_neg:\n",
    "            ans = '-' + ans\n",
    "        return ans\n",
    "            "
   ]
  },
  {
   "cell_type": "code",
   "execution_count": 28,
   "metadata": {},
   "outputs": [
    {
     "data": {
      "text/plain": [
       "'122'"
      ]
     },
     "execution_count": 28,
     "metadata": {},
     "output_type": "execute_result"
    }
   ],
   "source": [
    "a = Solution()\n",
    "a.convertToBase7(65)"
   ]
  },
  {
   "cell_type": "code",
   "execution_count": null,
   "metadata": {},
   "outputs": [],
   "source": []
  },
  {
   "cell_type": "markdown",
   "metadata": {},
   "source": [
    "## 三、相遇问题"
   ]
  },
  {
   "cell_type": "markdown",
   "metadata": {},
   "source": [
    "给定一个非空整数数组，找到使所有数组元素相等所需的最小移动数，其中每次移动可将选定的一个元素加1或减1。 您可以假设数组的长度最多为10000。\n",
    "\n",
    "例如:\n",
    "\n",
    "输入:\n",
    "[1,2,3]\n",
    "\n",
    "输出:\n",
    "2\n",
    "\n",
    "说明：\n",
    "只有两个动作是必要的（记得每一步仅可使其中一个元素加1或减1）： \n",
    "\n",
    "[1,2,3]  =>  [2,2,3]  =>  [2,2,2]\n",
    "\n",
    "来源：力扣462（LeetCode）\n",
    "链接：https://leetcode-cn.com/problems/minimum-moves-to-equal-array-elements-ii<br>\n",
    "知识点：典型的相遇问题，最小的移动次数为都移动到**中位数**，而**不是平均值**<br>\n",
    "原因分析，假设a>m>b，那么a-b = a-m + (m-b),一个序列中，中位数一定存在<br>"
   ]
  },
  {
   "cell_type": "code",
   "execution_count": 2,
   "metadata": {},
   "outputs": [],
   "source": [
    "class Solution:\n",
    "    def minMoves2(self, nums) -> int:\n",
    "        nums = sorted(nums)\n",
    "        res = 0\n",
    "        i, j = 0, len(nums) - 1\n",
    "        while i < j:\n",
    "            res += nums[j] - nums[i]\n",
    "            i += 1\n",
    "            j -= 1\n",
    "        return res"
   ]
  },
  {
   "cell_type": "code",
   "execution_count": null,
   "metadata": {},
   "outputs": [],
   "source": []
  },
  {
   "cell_type": "markdown",
   "metadata": {},
   "source": [
    "## 四、最长回文串"
   ]
  },
  {
   "cell_type": "markdown",
   "metadata": {},
   "source": [
    "**题目**<br>\n",
    "给定一个包含大写字母和小写字母的字符串，找到通过这些字母构造成的最长的回文串。<br>\n",
    "在构造过程中，请注意区分大小写。比如 \"Aa\" 不能当做一个回文字符串。<br>\n",
    "\n",
    "注意:<br>\n",
    "假设字符串的长度不会超过 1010。<br>\n",
    "\n",
    "示例 1:<br>\n",
    "输入:<br>\n",
    "\"abccccdd\"<br>\n",
    "输出:<br>\n",
    "7<br>\n",
    "\n",
    "解释:<br>\n",
    "我们可以构造的最长的回文串是\"dccaccd\", 它的长度是 7。<br>\n",
    "\n",
    "来源：力扣409（LeetCode）\n",
    "链接：https://leetcode-cn.com/problems/longest-palindrome<br><br>\n",
    "思路：哈希表(可以用count简化代码)"
   ]
  },
  {
   "cell_type": "code",
   "execution_count": 4,
   "metadata": {},
   "outputs": [],
   "source": [
    "from collections import Counter\n",
    "class Solution:\n",
    "    def longestPalindrome(self, s):\n",
    "        count = Counter(s) \n",
    "        couple = 0\n",
    "        for nums in count.values():\n",
    "            couple += nums//2\n",
    "        \n",
    "        if len(s) > 2*couple:\n",
    "            return 2*couple + 1\n",
    "        else:\n",
    "            return len(s)"
   ]
  },
  {
   "cell_type": "code",
   "execution_count": null,
   "metadata": {},
   "outputs": [],
   "source": []
  },
  {
   "cell_type": "markdown",
   "metadata": {},
   "source": [
    "## 五、数组和矩阵"
   ]
  },
  {
   "cell_type": "markdown",
   "metadata": {},
   "source": [
    "**378. 有序矩阵中第K小的元素**<br>\n",
    "给定一个 n x n 矩阵，其中每行和每列元素均按升序排序，找到矩阵中第k小的元素。<br>\n",
    "请注意，它是排序后的第 k 小元素，而不是第 k 个不同的元素。<br>\n",
    "\n",
    " \n",
    "\n",
    "示例:<br>\n",
    "\n",
    "matrix = [<br>\n",
    "   [ 1,  5,  9],<br>\n",
    "   [10, 11, 13],<br>\n",
    "   [12, 13, 15]<br>\n",
    "],<br>\n",
    "k = 8,<br>\n",
    "\n",
    "返回 13。<br>\n",
    "**思路：利用堆排序**：将一组或者一列数据入堆，然后依次抛出k个元素即可，这里没有采取把所有元素全部入堆<br>\n",
    "而是根据需要的K入堆，每次抛出一个数据后，都会新加入一个数据，这个数据就是被抛出数据的下一个或者右一个，<br>\n",
    "可以从全局的角度考虑原因。实际上这是一个优先队列"
   ]
  },
  {
   "cell_type": "code",
   "execution_count": 6,
   "metadata": {},
   "outputs": [],
   "source": [
    "class Solution:\n",
    "    def kthSmallest(self, matrix, k: int) -> int:\n",
    "        h = []\n",
    "        m, n = len(matrix), len(matrix[0])  # 行，列数目\n",
    "        for i in range(m):  # 第一列入堆\n",
    "            heapq.heappush(h, (matrix[i][0], i, 0))\n",
    "        for i in range(k-1):\n",
    "            item = heapq.heappop(h)\n",
    "            r, c = item[1], item[2]\n",
    "            if c < n-1:\n",
    "                heapq.heappush(h, (matrix[r][c+1], r, c+1))\n",
    "        return heapq.heappop(h)[0]"
   ]
  },
  {
   "cell_type": "code",
   "execution_count": null,
   "metadata": {},
   "outputs": [],
   "source": []
  }
 ],
 "metadata": {
  "kernelspec": {
   "display_name": "Python 3",
   "language": "python",
   "name": "python3"
  },
  "language_info": {
   "codemirror_mode": {
    "name": "ipython",
    "version": 3
   },
   "file_extension": ".py",
   "mimetype": "text/x-python",
   "name": "python",
   "nbconvert_exporter": "python",
   "pygments_lexer": "ipython3",
   "version": "3.6.2"
  }
 },
 "nbformat": 4,
 "nbformat_minor": 4
}
